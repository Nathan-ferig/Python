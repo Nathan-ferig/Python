{
  "nbformat": 4,
  "nbformat_minor": 0,
  "metadata": {
    "colab": {
      "name": "random_forest.ipynb",
      "provenance": []
    },
    "kernelspec": {
      "name": "python3",
      "display_name": "Python 3"
    },
    "language_info": {
      "name": "python"
    }
  },
  "cells": [
    {
      "cell_type": "markdown",
      "source": [
        "# Load Data"
      ],
      "metadata": {
        "id": "E6BaBUjQIJAY"
      }
    },
    {
      "cell_type": "code",
      "execution_count": 1,
      "metadata": {
        "id": "ob8Fw8KgAk8j"
      },
      "outputs": [],
      "source": [
        "# Import libs\n",
        "\n",
        "# Libs for modeling\n",
        "import numpy as np\n",
        "import pandas as pd\n",
        "import random\n",
        "\n",
        "# Libs for data visualization\n",
        "import matplotlib.pyplot as plt\n",
        "import seaborn as sns\n",
        "\n",
        "# Lib to ignore warnings\n",
        "import warnings\n",
        "warnings.filterwarnings('ignore')"
      ]
    },
    {
      "cell_type": "code",
      "source": [
        "# read data\n",
        "dataset = pd.read_csv('csv_result-ebay_confianca_completo.csv')\n",
        "dataset.shape"
      ],
      "metadata": {
        "colab": {
          "base_uri": "https://localhost:8080/"
        },
        "id": "c0WmGLmGAstp",
        "outputId": "b7555b86-be5d-4e8d-fbc2-0c39a4d51eb4"
      },
      "execution_count": 2,
      "outputs": [
        {
          "output_type": "execute_result",
          "data": {
            "text/plain": [
              "(5806, 75)"
            ]
          },
          "metadata": {},
          "execution_count": 2
        }
      ]
    },
    {
      "cell_type": "code",
      "source": [
        "dataset.head()"
      ],
      "metadata": {
        "colab": {
          "base_uri": "https://localhost:8080/",
          "height": 300
        },
        "id": "XKKLnhjhA9Vk",
        "outputId": "8537353f-2ae4-4519-dd11-c1f8ceebe35b"
      },
      "execution_count": 3,
      "outputs": [
        {
          "output_type": "execute_result",
          "data": {
            "text/plain": [
              "   feedbacks  reviews blacklist  mextraversion  cextraversion  sextraversion  \\\n",
              "2          0       49         N       4.181642            0.6              1   \n",
              "3          0       56         N       4.007042            0.6              0   \n",
              "4          0       50         N       4.538230            0.7              1   \n",
              "5         72        0         N       4.692854            0.3              0   \n",
              "6         76        0         N       4.966753            0.3              0   \n",
              "\n",
              "   mneuroticism  cneuroticism  sneuroticism  mconscientiousness  ...  \\\n",
              "2      2.777591           0.6             0            4.085460  ...   \n",
              "3      2.698650           0.6             0            4.187338  ...   \n",
              "4      2.298492           0.5             1            5.085833  ...   \n",
              "5      2.987231           0.5             0            4.831320  ...   \n",
              "6      3.048730           0.5             0            4.725294  ...   \n",
              "\n",
              "   need_practicaly  need_selfexpression  need_stability  need_structure  \\\n",
              "2         0.696359             0.698786        0.756963        0.660119   \n",
              "3         0.715300             0.664572        0.728806        0.660740   \n",
              "4         0.720150             0.694678        0.669652        0.627962   \n",
              "5         0.739793             0.637027        0.697221        0.638587   \n",
              "6         0.718530             0.616852        0.692761        0.646695   \n",
              "\n",
              "   value_conservation  value_openess  value_hedonism  value_selfenhancement  \\\n",
              "2            0.619416       0.746372        0.640073               0.598037   \n",
              "3            0.588969       0.735915        0.644465               0.603042   \n",
              "4            0.553523       0.766618        0.655470               0.645042   \n",
              "5            0.675289       0.752234        0.679661               0.674438   \n",
              "6            0.677245       0.699785        0.648607               0.616075   \n",
              "\n",
              "   value_selftranscendence  reputation  \n",
              "2                 0.828716         Bom  \n",
              "3                 0.809379         Bom  \n",
              "4                 0.826039         Bom  \n",
              "5                 0.813391         Bom  \n",
              "6                 0.816841         Bom  \n",
              "\n",
              "[5 rows x 75 columns]"
            ],
            "text/html": [
              "\n",
              "  <div id=\"df-eb8db2cd-fa07-46d3-b18b-92538f9ae305\">\n",
              "    <div class=\"colab-df-container\">\n",
              "      <div>\n",
              "<style scoped>\n",
              "    .dataframe tbody tr th:only-of-type {\n",
              "        vertical-align: middle;\n",
              "    }\n",
              "\n",
              "    .dataframe tbody tr th {\n",
              "        vertical-align: top;\n",
              "    }\n",
              "\n",
              "    .dataframe thead th {\n",
              "        text-align: right;\n",
              "    }\n",
              "</style>\n",
              "<table border=\"1\" class=\"dataframe\">\n",
              "  <thead>\n",
              "    <tr style=\"text-align: right;\">\n",
              "      <th></th>\n",
              "      <th>feedbacks</th>\n",
              "      <th>reviews</th>\n",
              "      <th>blacklist</th>\n",
              "      <th>mextraversion</th>\n",
              "      <th>cextraversion</th>\n",
              "      <th>sextraversion</th>\n",
              "      <th>mneuroticism</th>\n",
              "      <th>cneuroticism</th>\n",
              "      <th>sneuroticism</th>\n",
              "      <th>mconscientiousness</th>\n",
              "      <th>...</th>\n",
              "      <th>need_practicaly</th>\n",
              "      <th>need_selfexpression</th>\n",
              "      <th>need_stability</th>\n",
              "      <th>need_structure</th>\n",
              "      <th>value_conservation</th>\n",
              "      <th>value_openess</th>\n",
              "      <th>value_hedonism</th>\n",
              "      <th>value_selfenhancement</th>\n",
              "      <th>value_selftranscendence</th>\n",
              "      <th>reputation</th>\n",
              "    </tr>\n",
              "  </thead>\n",
              "  <tbody>\n",
              "    <tr>\n",
              "      <th>2</th>\n",
              "      <td>0</td>\n",
              "      <td>49</td>\n",
              "      <td>N</td>\n",
              "      <td>4.181642</td>\n",
              "      <td>0.6</td>\n",
              "      <td>1</td>\n",
              "      <td>2.777591</td>\n",
              "      <td>0.6</td>\n",
              "      <td>0</td>\n",
              "      <td>4.085460</td>\n",
              "      <td>...</td>\n",
              "      <td>0.696359</td>\n",
              "      <td>0.698786</td>\n",
              "      <td>0.756963</td>\n",
              "      <td>0.660119</td>\n",
              "      <td>0.619416</td>\n",
              "      <td>0.746372</td>\n",
              "      <td>0.640073</td>\n",
              "      <td>0.598037</td>\n",
              "      <td>0.828716</td>\n",
              "      <td>Bom</td>\n",
              "    </tr>\n",
              "    <tr>\n",
              "      <th>3</th>\n",
              "      <td>0</td>\n",
              "      <td>56</td>\n",
              "      <td>N</td>\n",
              "      <td>4.007042</td>\n",
              "      <td>0.6</td>\n",
              "      <td>0</td>\n",
              "      <td>2.698650</td>\n",
              "      <td>0.6</td>\n",
              "      <td>0</td>\n",
              "      <td>4.187338</td>\n",
              "      <td>...</td>\n",
              "      <td>0.715300</td>\n",
              "      <td>0.664572</td>\n",
              "      <td>0.728806</td>\n",
              "      <td>0.660740</td>\n",
              "      <td>0.588969</td>\n",
              "      <td>0.735915</td>\n",
              "      <td>0.644465</td>\n",
              "      <td>0.603042</td>\n",
              "      <td>0.809379</td>\n",
              "      <td>Bom</td>\n",
              "    </tr>\n",
              "    <tr>\n",
              "      <th>4</th>\n",
              "      <td>0</td>\n",
              "      <td>50</td>\n",
              "      <td>N</td>\n",
              "      <td>4.538230</td>\n",
              "      <td>0.7</td>\n",
              "      <td>1</td>\n",
              "      <td>2.298492</td>\n",
              "      <td>0.5</td>\n",
              "      <td>1</td>\n",
              "      <td>5.085833</td>\n",
              "      <td>...</td>\n",
              "      <td>0.720150</td>\n",
              "      <td>0.694678</td>\n",
              "      <td>0.669652</td>\n",
              "      <td>0.627962</td>\n",
              "      <td>0.553523</td>\n",
              "      <td>0.766618</td>\n",
              "      <td>0.655470</td>\n",
              "      <td>0.645042</td>\n",
              "      <td>0.826039</td>\n",
              "      <td>Bom</td>\n",
              "    </tr>\n",
              "    <tr>\n",
              "      <th>5</th>\n",
              "      <td>72</td>\n",
              "      <td>0</td>\n",
              "      <td>N</td>\n",
              "      <td>4.692854</td>\n",
              "      <td>0.3</td>\n",
              "      <td>0</td>\n",
              "      <td>2.987231</td>\n",
              "      <td>0.5</td>\n",
              "      <td>0</td>\n",
              "      <td>4.831320</td>\n",
              "      <td>...</td>\n",
              "      <td>0.739793</td>\n",
              "      <td>0.637027</td>\n",
              "      <td>0.697221</td>\n",
              "      <td>0.638587</td>\n",
              "      <td>0.675289</td>\n",
              "      <td>0.752234</td>\n",
              "      <td>0.679661</td>\n",
              "      <td>0.674438</td>\n",
              "      <td>0.813391</td>\n",
              "      <td>Bom</td>\n",
              "    </tr>\n",
              "    <tr>\n",
              "      <th>6</th>\n",
              "      <td>76</td>\n",
              "      <td>0</td>\n",
              "      <td>N</td>\n",
              "      <td>4.966753</td>\n",
              "      <td>0.3</td>\n",
              "      <td>0</td>\n",
              "      <td>3.048730</td>\n",
              "      <td>0.5</td>\n",
              "      <td>0</td>\n",
              "      <td>4.725294</td>\n",
              "      <td>...</td>\n",
              "      <td>0.718530</td>\n",
              "      <td>0.616852</td>\n",
              "      <td>0.692761</td>\n",
              "      <td>0.646695</td>\n",
              "      <td>0.677245</td>\n",
              "      <td>0.699785</td>\n",
              "      <td>0.648607</td>\n",
              "      <td>0.616075</td>\n",
              "      <td>0.816841</td>\n",
              "      <td>Bom</td>\n",
              "    </tr>\n",
              "  </tbody>\n",
              "</table>\n",
              "<p>5 rows × 75 columns</p>\n",
              "</div>\n",
              "      <button class=\"colab-df-convert\" onclick=\"convertToInteractive('df-eb8db2cd-fa07-46d3-b18b-92538f9ae305')\"\n",
              "              title=\"Convert this dataframe to an interactive table.\"\n",
              "              style=\"display:none;\">\n",
              "        \n",
              "  <svg xmlns=\"http://www.w3.org/2000/svg\" height=\"24px\"viewBox=\"0 0 24 24\"\n",
              "       width=\"24px\">\n",
              "    <path d=\"M0 0h24v24H0V0z\" fill=\"none\"/>\n",
              "    <path d=\"M18.56 5.44l.94 2.06.94-2.06 2.06-.94-2.06-.94-.94-2.06-.94 2.06-2.06.94zm-11 1L8.5 8.5l.94-2.06 2.06-.94-2.06-.94L8.5 2.5l-.94 2.06-2.06.94zm10 10l.94 2.06.94-2.06 2.06-.94-2.06-.94-.94-2.06-.94 2.06-2.06.94z\"/><path d=\"M17.41 7.96l-1.37-1.37c-.4-.4-.92-.59-1.43-.59-.52 0-1.04.2-1.43.59L10.3 9.45l-7.72 7.72c-.78.78-.78 2.05 0 2.83L4 21.41c.39.39.9.59 1.41.59.51 0 1.02-.2 1.41-.59l7.78-7.78 2.81-2.81c.8-.78.8-2.07 0-2.86zM5.41 20L4 18.59l7.72-7.72 1.47 1.35L5.41 20z\"/>\n",
              "  </svg>\n",
              "      </button>\n",
              "      \n",
              "  <style>\n",
              "    .colab-df-container {\n",
              "      display:flex;\n",
              "      flex-wrap:wrap;\n",
              "      gap: 12px;\n",
              "    }\n",
              "\n",
              "    .colab-df-convert {\n",
              "      background-color: #E8F0FE;\n",
              "      border: none;\n",
              "      border-radius: 50%;\n",
              "      cursor: pointer;\n",
              "      display: none;\n",
              "      fill: #1967D2;\n",
              "      height: 32px;\n",
              "      padding: 0 0 0 0;\n",
              "      width: 32px;\n",
              "    }\n",
              "\n",
              "    .colab-df-convert:hover {\n",
              "      background-color: #E2EBFA;\n",
              "      box-shadow: 0px 1px 2px rgba(60, 64, 67, 0.3), 0px 1px 3px 1px rgba(60, 64, 67, 0.15);\n",
              "      fill: #174EA6;\n",
              "    }\n",
              "\n",
              "    [theme=dark] .colab-df-convert {\n",
              "      background-color: #3B4455;\n",
              "      fill: #D2E3FC;\n",
              "    }\n",
              "\n",
              "    [theme=dark] .colab-df-convert:hover {\n",
              "      background-color: #434B5C;\n",
              "      box-shadow: 0px 1px 3px 1px rgba(0, 0, 0, 0.15);\n",
              "      filter: drop-shadow(0px 1px 2px rgba(0, 0, 0, 0.3));\n",
              "      fill: #FFFFFF;\n",
              "    }\n",
              "  </style>\n",
              "\n",
              "      <script>\n",
              "        const buttonEl =\n",
              "          document.querySelector('#df-eb8db2cd-fa07-46d3-b18b-92538f9ae305 button.colab-df-convert');\n",
              "        buttonEl.style.display =\n",
              "          google.colab.kernel.accessAllowed ? 'block' : 'none';\n",
              "\n",
              "        async function convertToInteractive(key) {\n",
              "          const element = document.querySelector('#df-eb8db2cd-fa07-46d3-b18b-92538f9ae305');\n",
              "          const dataTable =\n",
              "            await google.colab.kernel.invokeFunction('convertToInteractive',\n",
              "                                                     [key], {});\n",
              "          if (!dataTable) return;\n",
              "\n",
              "          const docLinkHtml = 'Like what you see? Visit the ' +\n",
              "            '<a target=\"_blank\" href=https://colab.research.google.com/notebooks/data_table.ipynb>data table notebook</a>'\n",
              "            + ' to learn more about interactive tables.';\n",
              "          element.innerHTML = '';\n",
              "          dataTable['output_type'] = 'display_data';\n",
              "          await google.colab.output.renderOutput(dataTable, element);\n",
              "          const docLink = document.createElement('div');\n",
              "          docLink.innerHTML = docLinkHtml;\n",
              "          element.appendChild(docLink);\n",
              "        }\n",
              "      </script>\n",
              "    </div>\n",
              "  </div>\n",
              "  "
            ]
          },
          "metadata": {},
          "execution_count": 3
        }
      ]
    },
    {
      "cell_type": "code",
      "source": [
        "# added later to ensure the algorithm would work\n",
        "dataset['blacklist'] = dataset['blacklist'] == 'S'"
      ],
      "metadata": {
        "id": "nQxHxnqMUiBZ"
      },
      "execution_count": 4,
      "outputs": []
    },
    {
      "cell_type": "code",
      "source": [
        "# null analysis\n",
        "dataset.isnull().sum()"
      ],
      "metadata": {
        "colab": {
          "base_uri": "https://localhost:8080/"
        },
        "id": "l0FFRD-FBFJM",
        "outputId": "a04836d6-13e7-4087-8d76-5da8e850210c"
      },
      "execution_count": 5,
      "outputs": [
        {
          "output_type": "execute_result",
          "data": {
            "text/plain": [
              "feedbacks                  0\n",
              "reviews                    0\n",
              "blacklist                  0\n",
              "mextraversion              0\n",
              "cextraversion              0\n",
              "                          ..\n",
              "value_openess              0\n",
              "value_hedonism             0\n",
              "value_selfenhancement      0\n",
              "value_selftranscendence    0\n",
              "reputation                 0\n",
              "Length: 75, dtype: int64"
            ]
          },
          "metadata": {},
          "execution_count": 5
        }
      ]
    },
    {
      "cell_type": "code",
      "source": [
        "# null analysis\n",
        "plt.figure( figsize=(12,6))\n",
        "plt.title('Null Analysis')\n",
        "sns.heatmap( dataset.isnull(), cbar=False );"
      ],
      "metadata": {
        "colab": {
          "base_uri": "https://localhost:8080/",
          "height": 499
        },
        "id": "vcL_8pNZBGmX",
        "outputId": "f35972e6-1ef4-4226-f3c2-c8aa6e07abe8"
      },
      "execution_count": 6,
      "outputs": [
        {
          "output_type": "display_data",
          "data": {
            "text/plain": [
              "<Figure size 864x432 with 1 Axes>"
            ],
            "image/png": "[encoded data removed]"
          },
          "metadata": {
            "needs_background": "light"
          }
        }
      ]
    },
    {
      "cell_type": "code",
      "source": [
        "# reputation analysis\n",
        "dataset.groupby('reputation')['reputation'].count()"
      ],
      "metadata": {
        "colab": {
          "base_uri": "https://localhost:8080/"
        },
        "id": "H0rtC-LvCVJz",
        "outputId": "317d4d4a-2735-4d6c-f3c9-eaddec4db367"
      },
      "execution_count": 7,
      "outputs": [
        {
          "output_type": "execute_result",
          "data": {
            "text/plain": [
              "reputation\n",
              "Bom     4299\n",
              "Ruim    1507\n",
              "Name: reputation, dtype: int64"
            ]
          },
          "metadata": {},
          "execution_count": 7
        }
      ]
    },
    {
      "cell_type": "code",
      "source": [
        "# reputation analysis\n",
        "sns.countplot(dataset['reputation']);"
      ],
      "metadata": {
        "colab": {
          "base_uri": "https://localhost:8080/",
          "height": 279
        },
        "id": "fM54o-oPByyH",
        "outputId": "9448e00b-05ec-4f6d-b76a-0b2bf7c07fc5"
      },
      "execution_count": 8,
      "outputs": [
        {
          "output_type": "display_data",
          "data": {
            "text/plain": [
              "<Figure size 432x288 with 1 Axes>"
            ],
            "image/png": "[encoded data removed]"
          },
          "metadata": {
            "needs_background": "light"
          }
        }
      ]
    },
    {
      "cell_type": "markdown",
      "source": [
        "# Split data"
      ],
      "metadata": {
        "id": "JalVpde7IMaq"
      }
    },
    {
      "cell_type": "code",
      "source": [
        "len(dataset.columns)"
      ],
      "metadata": {
        "colab": {
          "base_uri": "https://localhost:8080/"
        },
        "id": "D1-jUdREIPBl",
        "outputId": "e59083c7-7db8-4f77-8b76-85eb404ff25f"
      },
      "execution_count": 9,
      "outputs": [
        {
          "output_type": "execute_result",
          "data": {
            "text/plain": [
              "75"
            ]
          },
          "metadata": {},
          "execution_count": 9
        }
      ]
    },
    {
      "cell_type": "code",
      "source": [
        "# split dataset into x and y sets\n",
        "X = dataset.iloc[:, 0:74].values\n",
        "X.shape"
      ],
      "metadata": {
        "colab": {
          "base_uri": "https://localhost:8080/"
        },
        "id": "_l2d3RBHIZZv",
        "outputId": "4f835b8a-c1cc-46ac-9498-3a00c996009d"
      },
      "execution_count": 10,
      "outputs": [
        {
          "output_type": "execute_result",
          "data": {
            "text/plain": [
              "(5806, 74)"
            ]
          },
          "metadata": {},
          "execution_count": 10
        }
      ]
    },
    {
      "cell_type": "code",
      "source": [
        "y = dataset.iloc[:,74].values\n",
        "y.shape"
      ],
      "metadata": {
        "colab": {
          "base_uri": "https://localhost:8080/"
        },
        "id": "POPqBYQQIl6M",
        "outputId": "99a99a89-6de3-4d45-ff3e-41ce1e658d36"
      },
      "execution_count": 11,
      "outputs": [
        {
          "output_type": "execute_result",
          "data": {
            "text/plain": [
              "(5806,)"
            ]
          },
          "metadata": {},
          "execution_count": 11
        }
      ]
    },
    {
      "cell_type": "code",
      "metadata": {
        "id": "azgq3FvEEXtj",
        "colab": {
          "base_uri": "https://localhost:8080/"
        },
        "outputId": "cfb2a013-02de-412e-e5a5-32550f8312fe"
      },
      "source": [
        "y"
      ],
      "execution_count": 12,
      "outputs": [
        {
          "output_type": "execute_result",
          "data": {
            "text/plain": [
              "array(['Bom', 'Bom', 'Bom', ..., 'Bom', 'Ruim', 'Ruim'], dtype=object)"
            ]
          },
          "metadata": {},
          "execution_count": 12
        }
      ]
    },
    {
      "cell_type": "code",
      "metadata": {
        "id": "tAu1OPhreTkY",
        "colab": {
          "base_uri": "https://localhost:8080/"
        },
        "outputId": "14945f3a-02c7-4167-d996-54e62409ec76"
      },
      "source": [
        "np.unique(y, return_counts=True)"
      ],
      "execution_count": 13,
      "outputs": [
        {
          "output_type": "execute_result",
          "data": {
            "text/plain": [
              "(array(['Bom', 'Ruim'], dtype=object), array([4299, 1507]))"
            ]
          },
          "metadata": {},
          "execution_count": 13
        }
      ]
    },
    {
      "cell_type": "markdown",
      "source": [
        "# Training and test"
      ],
      "metadata": {
        "id": "Iq_bWCYaJNdC"
      }
    },
    {
      "cell_type": "code",
      "source": [
        "# import sklearn to train our model\n",
        "from sklearn.model_selection import train_test_split"
      ],
      "metadata": {
        "id": "NtgybSI_Dc0M"
      },
      "execution_count": 14,
      "outputs": []
    },
    {
      "cell_type": "code",
      "source": [
        "# create training and test\n",
        "X_training, X_test, y_training, y_test = train_test_split(X, y, test_size = 0.2, stratify = y)"
      ],
      "metadata": {
        "id": "oFSdvKynFAY2"
      },
      "execution_count": 15,
      "outputs": []
    },
    {
      "cell_type": "code",
      "metadata": {
        "id": "XPFAJJLSEfvA",
        "colab": {
          "base_uri": "https://localhost:8080/"
        },
        "outputId": "f1b61509-27b9-4ccb-dc85-c53cea9cb496"
      },
      "source": [
        "X_training.shape, y_training.shape"
      ],
      "execution_count": 16,
      "outputs": [
        {
          "output_type": "execute_result",
          "data": {
            "text/plain": [
              "((4644, 74), (4644,))"
            ]
          },
          "metadata": {},
          "execution_count": 16
        }
      ]
    },
    {
      "cell_type": "code",
      "metadata": {
        "id": "OcybzfVgEn4X",
        "colab": {
          "base_uri": "https://localhost:8080/"
        },
        "outputId": "7c6ec085-99ac-4146-ae73-df6f7fecce2b"
      },
      "source": [
        "X_test.shape, y_test.shape"
      ],
      "execution_count": 17,
      "outputs": [
        {
          "output_type": "execute_result",
          "data": {
            "text/plain": [
              "((1162, 74), (1162,))"
            ]
          },
          "metadata": {},
          "execution_count": 17
        }
      ]
    },
    {
      "cell_type": "code",
      "metadata": {
        "id": "de3wr-qNExjP",
        "colab": {
          "base_uri": "https://localhost:8080/"
        },
        "outputId": "dbf6d17b-c4a2-4f94-dae3-5bc7fe418394"
      },
      "source": [
        "# check percentage between the splitted dataset\n",
        "np.unique(y, return_counts=True)"
      ],
      "execution_count": 18,
      "outputs": [
        {
          "output_type": "execute_result",
          "data": {
            "text/plain": [
              "(array(['Bom', 'Ruim'], dtype=object), array([4299, 1507]))"
            ]
          },
          "metadata": {},
          "execution_count": 18
        }
      ]
    },
    {
      "cell_type": "code",
      "metadata": {
        "id": "02IABsqmE6Hz",
        "colab": {
          "base_uri": "https://localhost:8080/"
        },
        "outputId": "1f499517-0b77-43cb-af5a-29edae186687"
      },
      "source": [
        "4299 / len(dataset), 1507 / len(dataset)"
      ],
      "execution_count": 19,
      "outputs": [
        {
          "output_type": "execute_result",
          "data": {
            "text/plain": [
              "(0.7404409231829142, 0.2595590768170858)"
            ]
          },
          "metadata": {},
          "execution_count": 19
        }
      ]
    },
    {
      "cell_type": "code",
      "metadata": {
        "id": "UZuSePYMFJUw",
        "colab": {
          "base_uri": "https://localhost:8080/"
        },
        "outputId": "9f822311-6c12-4bf6-aa15-db6f403e8f0d"
      },
      "source": [
        "np.unique(y_training, return_counts=True)"
      ],
      "execution_count": 20,
      "outputs": [
        {
          "output_type": "execute_result",
          "data": {
            "text/plain": [
              "(array(['Bom', 'Ruim'], dtype=object), array([3439, 1205]))"
            ]
          },
          "metadata": {},
          "execution_count": 20
        }
      ]
    },
    {
      "cell_type": "code",
      "metadata": {
        "id": "vdyeXcD8FX4C",
        "colab": {
          "base_uri": "https://localhost:8080/"
        },
        "outputId": "e92848b4-9632-499d-bab8-0ce069f6038a"
      },
      "source": [
        "1205 / len(y_training)"
      ],
      "execution_count": 21,
      "outputs": [
        {
          "output_type": "execute_result",
          "data": {
            "text/plain": [
              "0.2594745908699397"
            ]
          },
          "metadata": {},
          "execution_count": 21
        }
      ]
    },
    {
      "cell_type": "code",
      "metadata": {
        "id": "cfIrILE6FdyZ",
        "colab": {
          "base_uri": "https://localhost:8080/"
        },
        "outputId": "40398867-3590-4136-ccdc-48bc53634be1"
      },
      "source": [
        "np.unique(y_test, return_counts=True)"
      ],
      "execution_count": 22,
      "outputs": [
        {
          "output_type": "execute_result",
          "data": {
            "text/plain": [
              "(array(['Bom', 'Ruim'], dtype=object), array([860, 302]))"
            ]
          },
          "metadata": {},
          "execution_count": 22
        }
      ]
    },
    {
      "cell_type": "code",
      "metadata": {
        "id": "gFwlnLf6Fhs_",
        "colab": {
          "base_uri": "https://localhost:8080/"
        },
        "outputId": "87657c2c-163c-448a-94dd-f23c76d2a503"
      },
      "source": [
        "302 / len(y_test)"
      ],
      "execution_count": 23,
      "outputs": [
        {
          "output_type": "execute_result",
          "data": {
            "text/plain": [
              "0.25989672977624784"
            ]
          },
          "metadata": {},
          "execution_count": 23
        }
      ]
    },
    {
      "cell_type": "markdown",
      "source": [
        "#  Random Forest Classification"
      ],
      "metadata": {
        "id": "EUI7qcj8Qncl"
      }
    },
    {
      "cell_type": "code",
      "metadata": {
        "id": "nMdeH8sYGMPq"
      },
      "source": [
        "from sklearn.ensemble import RandomForestClassifier"
      ],
      "execution_count": 24,
      "outputs": []
    },
    {
      "cell_type": "code",
      "metadata": {
        "id": "tNRBCJ2eGQiu",
        "colab": {
          "base_uri": "https://localhost:8080/"
        },
        "outputId": "5e77b018-714c-4bf1-cf35-c3971ff7f531"
      },
      "source": [
        "model = RandomForestClassifier()\n",
        "model.fit(X_training, y_training)"
      ],
      "execution_count": 25,
      "outputs": [
        {
          "output_type": "execute_result",
          "data": {
            "text/plain": [
              "RandomForestClassifier()"
            ]
          },
          "metadata": {},
          "execution_count": 25
        }
      ]
    },
    {
      "cell_type": "code",
      "metadata": {
        "id": "xmFnRjRTHC3Z",
        "colab": {
          "base_uri": "https://localhost:8080/"
        },
        "outputId": "46df5107-542a-47f6-b19e-3375cbbba6c9"
      },
      "source": [
        "predicted = model.predict(X_test)\n",
        "\n",
        "from sklearn.metrics import accuracy_score\n",
        "accuracy_score(predicted, y_test)"
      ],
      "execution_count": 27,
      "outputs": [
        {
          "output_type": "execute_result",
          "data": {
            "text/plain": [
              "0.7452667814113597"
            ]
          },
          "metadata": {},
          "execution_count": 27
        }
      ]
    },
    {
      "cell_type": "code",
      "source": [
        "from sklearn.metrics import confusion_matrix\n",
        "cm = confusion_matrix(predicted, y_test)\n",
        "cm"
      ],
      "metadata": {
        "colab": {
          "base_uri": "https://localhost:8080/"
        },
        "id": "C8XqHTQrVrWc",
        "outputId": "85d12b86-c0e0-4372-e8f2-d228c6845d6c"
      },
      "execution_count": 29,
      "outputs": [
        {
          "output_type": "execute_result",
          "data": {
            "text/plain": [
              "array([[853, 289],\n",
              "       [  7,  13]])"
            ]
          },
          "metadata": {},
          "execution_count": 29
        }
      ]
    },
    {
      "cell_type": "code",
      "source": [
        "sns.heatmap( cm, annot=True);"
      ],
      "metadata": {
        "colab": {
          "base_uri": "https://localhost:8080/",
          "height": 265
        },
        "id": "i2OA346uVxqa",
        "outputId": "b42e9588-3bc3-47f9-e633-eadfce900840"
      },
      "execution_count": 30,
      "outputs": [
        {
          "output_type": "display_data",
          "data": {
            "text/plain": [
              "<Figure size 432x288 with 2 Axes>"
            ],
            "image/png": "[encoded data removed]"
          },
          "metadata": {
            "needs_background": "light"
          }
        }
      ]
    },
    {
      "cell_type": "code",
      "source": [
        "# check model accuracy\n",
        "\n",
        "total_valid = cm[0,0] + cm[1,1]\n",
        "total_errors = cm[0,1] + cm[1,0]\n",
        "total_total = total_valid + total_errors\n",
        "\n",
        "type_1_valid = cm[0,0]\n",
        "type_1_errors = cm[0,1]\n",
        "type_1_total = type_1_valid + type_1_errors\n",
        "\n",
        "type_2_valid = cm[1,1]\n",
        "type_2_errors = cm[1,0]\n",
        "type_2_total = type_2_valid + type_2_errors\n",
        "\n",
        "\n",
        "print(\n",
        "    \"Model accuracy\"\n",
        "    \"\\n        Valid - Errors - %%\"\n",
        "    \"\\nTotal : %2i - %2i - %2.2f%%\" % (total_valid, total_errors, total_valid/total_total*100),\n",
        "    \"\\nType 1: %2i - %i - %2.2f%%\" % (type_1_valid, type_1_errors, type_1_valid/type_1_total*100),\n",
        "    \"\\nType 2: %2i - %2i - %2.2f%%\" % (type_2_valid, type_2_errors, type_2_valid/type_2_total*100),\n",
        ")"
      ],
      "metadata": {
        "colab": {
          "base_uri": "https://localhost:8080/"
        },
        "id": "Yh7WIwVxV3qm",
        "outputId": "90c87795-b45a-437e-bc9b-6d2d695a5b32"
      },
      "execution_count": 31,
      "outputs": [
        {
          "output_type": "stream",
          "name": "stdout",
          "text": [
            "Model accuracy\n",
            "        Valid - Errors - %\n",
            "Total : 866 - 296 - 74.53% \n",
            "Type 1: 853 - 289 - 74.69% \n",
            "Type 2: 13 -  7 - 65.00%\n"
          ]
        }
      ]
    },
    {
      "cell_type": "markdown",
      "source": [
        "# Undersampling and Oversampling"
      ],
      "metadata": {
        "id": "rEllSRvvTzLe"
      }
    },
    {
      "cell_type": "code",
      "source": [
        "# undersampling\n",
        "\n",
        "from imblearn.under_sampling import TomekLinks"
      ],
      "metadata": {
        "id": "mruzKh81T0wa"
      },
      "execution_count": 32,
      "outputs": []
    },
    {
      "cell_type": "code",
      "source": [
        "tl = TomekLinks(sampling_strategy='majority')\n",
        "X_under, y_under = tl.fit_resample(X, y)"
      ],
      "metadata": {
        "id": "JmMIVCQGT5CP"
      },
      "execution_count": 34,
      "outputs": []
    },
    {
      "cell_type": "code",
      "source": [
        "X_under.shape, y_under.shape"
      ],
      "metadata": {
        "colab": {
          "base_uri": "https://localhost:8080/"
        },
        "id": "b9WeYUWbVlMz",
        "outputId": "0ed02048-3fcc-42b0-c0be-7101984bc78b"
      },
      "execution_count": 35,
      "outputs": [
        {
          "output_type": "execute_result",
          "data": {
            "text/plain": [
              "((5417, 74), (5417,))"
            ]
          },
          "metadata": {},
          "execution_count": 35
        }
      ]
    },
    {
      "cell_type": "code",
      "metadata": {
        "id": "j3tJD1SkNAzW",
        "colab": {
          "base_uri": "https://localhost:8080/"
        },
        "outputId": "8b6fe19f-e74e-41f0-82da-952814df9d38"
      },
      "source": [
        "# original dataset\n",
        "np.unique(y, return_counts=True)"
      ],
      "execution_count": 36,
      "outputs": [
        {
          "output_type": "execute_result",
          "data": {
            "text/plain": [
              "(array(['Bom', 'Ruim'], dtype=object), array([4299, 1507]))"
            ]
          },
          "metadata": {},
          "execution_count": 36
        }
      ]
    },
    {
      "cell_type": "code",
      "metadata": {
        "id": "HKn8t_YxNFo6",
        "colab": {
          "base_uri": "https://localhost:8080/"
        },
        "outputId": "979c9f04-0aa6-406a-f018-4a754489f059"
      },
      "source": [
        "# undersampling set (with reduced cases for the majority class)\n",
        "np.unique(y_under, return_counts=True)"
      ],
      "execution_count": 37,
      "outputs": [
        {
          "output_type": "execute_result",
          "data": {
            "text/plain": [
              "(array(['Bom', 'Ruim'], dtype=object), array([3910, 1507]))"
            ]
          },
          "metadata": {},
          "execution_count": 37
        }
      ]
    },
    {
      "cell_type": "code",
      "source": [
        "# create training and test\n",
        "X_training_u, X_test_u, y_training_u, y_test_u = train_test_split(X_under, y_under, test_size = 0.2, stratify = y_under)\n",
        "\n",
        "X_training_u.shape, X_test_u.shape"
      ],
      "metadata": {
        "colab": {
          "base_uri": "https://localhost:8080/"
        },
        "id": "Arew3gOBWDgN",
        "outputId": "bfb0ce01-1407-4427-a2a5-79a8ebf17562"
      },
      "execution_count": 38,
      "outputs": [
        {
          "output_type": "execute_result",
          "data": {
            "text/plain": [
              "((4333, 74), (1084, 74))"
            ]
          },
          "metadata": {},
          "execution_count": 38
        }
      ]
    },
    {
      "cell_type": "code",
      "source": [
        "model_u = RandomForestClassifier()\n",
        "model_u.fit(X_training_u, y_training_u)\n",
        "predicted_u = model_u.predict(X_test_u)\n",
        "accuracy_score(y_test_u,predicted_u ) "
      ],
      "metadata": {
        "colab": {
          "base_uri": "https://localhost:8080/"
        },
        "id": "-2jH30DAWWDc",
        "outputId": "24715af8-611c-4ded-8f40-e231d6318d2f"
      },
      "execution_count": 39,
      "outputs": [
        {
          "output_type": "execute_result",
          "data": {
            "text/plain": [
              "0.7333948339483395"
            ]
          },
          "metadata": {},
          "execution_count": 39
        }
      ]
    },
    {
      "cell_type": "code",
      "source": [
        "cm_u = confusion_matrix(predicted_u,y_test_u)\n",
        "cm_u"
      ],
      "metadata": {
        "colab": {
          "base_uri": "https://localhost:8080/"
        },
        "id": "FmbG15bcXX0N",
        "outputId": "def1b740-f328-4f31-ff03-6f9ab8dff78e"
      },
      "execution_count": 40,
      "outputs": [
        {
          "output_type": "execute_result",
          "data": {
            "text/plain": [
              "array([[771, 278],\n",
              "       [ 11,  24]])"
            ]
          },
          "metadata": {},
          "execution_count": 40
        }
      ]
    },
    {
      "cell_type": "code",
      "source": [
        "# check model accuracy\n",
        "\n",
        "total_valid_u = cm_u[0,0] + cm_u[1,1]\n",
        "total_errors_u = cm_u[0,1] + cm_u[1,0]\n",
        "total_total_u = total_valid_u + total_errors_u\n",
        "\n",
        "type_1_valid_u = cm_u[0,0]\n",
        "type_1_errors_u = cm_u[0,1]\n",
        "type_1_total_u = type_1_valid_u + type_1_errors_u\n",
        "\n",
        "type_2_valid_u = cm_u[1,1]\n",
        "type_2_errors_u = cm_u[1,0]\n",
        "type_2_total_u = type_2_valid_u + type_2_errors_u\n",
        "\n",
        "\n",
        "print(\n",
        "    \"Model accuracy\"\n",
        "    \"\\n        Valid - Errors - %%\"\n",
        "    \"\\nTotal : %2i - %2i - %2.2f%%\" % (total_valid_u, total_errors_u, total_valid_u/total_total_u*100),\n",
        "    \"\\nType 1: %2i - %i - %2.2f%%\" % (type_1_valid_u, type_1_errors_u, type_1_valid_u/type_1_total_u*100),\n",
        "    \"\\nType 2: %2i - %2i - %2.2f%%\" % (type_2_valid_u, type_2_errors_u, type_2_valid_u/type_2_total_u*100),\n",
        ")"
      ],
      "metadata": {
        "colab": {
          "base_uri": "https://localhost:8080/"
        },
        "id": "gHFRpJ1eXkZF",
        "outputId": "7333914f-ad1e-43de-b033-c11b1a317c73"
      },
      "execution_count": 41,
      "outputs": [
        {
          "output_type": "stream",
          "name": "stdout",
          "text": [
            "Model accuracy\n",
            "        Valid - Errors - %\n",
            "Total : 795 - 289 - 73.34% \n",
            "Type 1: 771 - 278 - 73.50% \n",
            "Type 2: 24 - 11 - 68.57%\n"
          ]
        }
      ]
    },
    {
      "cell_type": "code",
      "source": [
        "# check model accuracy\n",
        "\n",
        "print(\n",
        "    \"Model accuracy - Original model versus Undersampling\"\n",
        "    \"\\nTotal : %2.2f%% - %2.2f%%\" % (total_valid/total_total*100, total_valid_u/total_total_u*100),\n",
        "    \"\\nType 1: %2.2f%% - %2.2f%%\" % (type_1_valid/type_1_total*100, type_1_valid_u/type_1_total_u*100),\n",
        "    \"\\nType 2: %2.2f%% - %2.2f%%\" % (type_2_valid/type_2_total*100, type_2_valid_u/type_2_total_u*100),\n",
        ")"
      ],
      "metadata": {
        "colab": {
          "base_uri": "https://localhost:8080/"
        },
        "id": "mQA5V8QqYxXU",
        "outputId": "943130a7-3964-43be-eff6-1bc46ddb2b71"
      },
      "execution_count": 42,
      "outputs": [
        {
          "output_type": "stream",
          "name": "stdout",
          "text": [
            "Model accuracy - Original model versus Undersampling\n",
            "Total : 74.53% - 73.34% \n",
            "Type 1: 74.69% - 73.50% \n",
            "Type 2: 65.00% - 68.57%\n"
          ]
        }
      ]
    },
    {
      "cell_type": "code",
      "metadata": {
        "id": "afZorNsRP2ZO"
      },
      "source": [
        "# oversampling\n",
        "\n",
        "from imblearn.over_sampling import SMOTE"
      ],
      "execution_count": 43,
      "outputs": []
    },
    {
      "cell_type": "code",
      "metadata": {
        "id": "-dqqqfx4P8BS"
      },
      "source": [
        "smote = SMOTE(sampling_strategy='minority')\n",
        "X_over, y_over = smote.fit_resample(X, y)"
      ],
      "execution_count": 44,
      "outputs": []
    },
    {
      "cell_type": "code",
      "metadata": {
        "id": "ARlvsdYbQN50",
        "colab": {
          "base_uri": "https://localhost:8080/"
        },
        "outputId": "06b6e8b1-1c45-440d-87db-0cae82cfdf2c"
      },
      "source": [
        "X_over.shape, y_over.shape"
      ],
      "execution_count": 45,
      "outputs": [
        {
          "output_type": "execute_result",
          "data": {
            "text/plain": [
              "((8598, 74), (8598,))"
            ]
          },
          "metadata": {},
          "execution_count": 45
        }
      ]
    },
    {
      "cell_type": "code",
      "metadata": {
        "id": "yDjesKDwQUJQ",
        "colab": {
          "base_uri": "https://localhost:8080/"
        },
        "outputId": "822aedf6-8f51-4b53-c3a4-9143cea07752"
      },
      "source": [
        "np.unique(y, return_counts=True)"
      ],
      "execution_count": 46,
      "outputs": [
        {
          "output_type": "execute_result",
          "data": {
            "text/plain": [
              "(array(['Bom', 'Ruim'], dtype=object), array([4299, 1507]))"
            ]
          },
          "metadata": {},
          "execution_count": 46
        }
      ]
    },
    {
      "cell_type": "code",
      "metadata": {
        "id": "StbCHeZSQYd3",
        "colab": {
          "base_uri": "https://localhost:8080/"
        },
        "outputId": "7a36d669-9b69-4d4c-f19f-f75bbaf24791"
      },
      "source": [
        "np.unique(y_over, return_counts=True)"
      ],
      "execution_count": 47,
      "outputs": [
        {
          "output_type": "execute_result",
          "data": {
            "text/plain": [
              "(array(['Bom', 'Ruim'], dtype=object), array([4299, 4299]))"
            ]
          },
          "metadata": {},
          "execution_count": 47
        }
      ]
    },
    {
      "cell_type": "code",
      "metadata": {
        "id": "6CQ2NDEUQiZG"
      },
      "source": [
        "X_training_o, X_test_o, y_training_o, y_test_o = train_test_split(X_over, y_over,\n",
        "                                                                          test_size = 0.2,\n",
        "                                                                          stratify=y_over)"
      ],
      "execution_count": 48,
      "outputs": []
    },
    {
      "cell_type": "code",
      "source": [
        "X_training_o.shape, X_test_o.shape"
      ],
      "metadata": {
        "colab": {
          "base_uri": "https://localhost:8080/"
        },
        "id": "ELFXloBvD6X1",
        "outputId": "42db6b8b-ec03-4e75-f5bf-a20e56e2c7ee"
      },
      "execution_count": 49,
      "outputs": [
        {
          "output_type": "execute_result",
          "data": {
            "text/plain": [
              "((6878, 74), (1720, 74))"
            ]
          },
          "metadata": {},
          "execution_count": 49
        }
      ]
    },
    {
      "cell_type": "code",
      "source": [
        "model_o = RandomForestClassifier()\n",
        "model_o.fit(X_training_o, y_training_o)\n",
        "predicted_o = model_o.predict(X_test_o)\n",
        "accuracy_score(y_test_o,predicted_o ) "
      ],
      "metadata": {
        "colab": {
          "base_uri": "https://localhost:8080/"
        },
        "outputId": "da71389b-7cbe-4a06-ccf6-fd7ed7293a3d",
        "id": "EncPoYMkEIq_"
      },
      "execution_count": 50,
      "outputs": [
        {
          "output_type": "execute_result",
          "data": {
            "text/plain": [
              "0.813953488372093"
            ]
          },
          "metadata": {},
          "execution_count": 50
        }
      ]
    },
    {
      "cell_type": "code",
      "source": [
        "cm_o = confusion_matrix(predicted_o,y_test_o)\n",
        "cm_o"
      ],
      "metadata": {
        "colab": {
          "base_uri": "https://localhost:8080/"
        },
        "outputId": "9e7b611d-ae7b-4683-a199-2724694bd2cf",
        "id": "YrvzGfCEEIrA"
      },
      "execution_count": 51,
      "outputs": [
        {
          "output_type": "execute_result",
          "data": {
            "text/plain": [
              "array([[700, 160],\n",
              "       [160, 700]])"
            ]
          },
          "metadata": {},
          "execution_count": 51
        }
      ]
    },
    {
      "cell_type": "code",
      "source": [
        "# check model accuracy\n",
        "\n",
        "total_valid_o = cm_o[0,0] + cm_o[1,1]\n",
        "total_errors_o = cm_o[0,1] + cm_o[1,0]\n",
        "total_total_o = total_valid_o + total_errors_o\n",
        "\n",
        "type_1_valid_o = cm_u[0,0]\n",
        "type_1_errors_o = cm_u[0,1]\n",
        "type_1_total_o = type_1_valid_u + type_1_errors_o\n",
        "\n",
        "type_2_valid_o = cm_o[1,1]\n",
        "type_2_errors_o = cm_o[1,0]\n",
        "type_2_total_o = type_2_valid_o + type_2_errors_o\n",
        "\n",
        "\n",
        "print(\n",
        "    \"Model accuracy\"\n",
        "    \"\\n        Valid - Errors - %%\"\n",
        "    \"\\nTotal : %2i - %2i - %2.2f%%\" % (total_valid_o, total_errors_o, total_valid_o/total_total_o*100),\n",
        "    \"\\nType 1: %2i - %i - %2.2f%%\" % (type_1_valid_o, type_1_errors_o, type_1_valid_o/type_1_total_o*100),\n",
        "    \"\\nType 2: %2i - %2i - %2.2f%%\" % (type_2_valid_o, type_2_errors_o, type_2_valid_o/type_2_total_o*100),\n",
        ")"
      ],
      "metadata": {
        "colab": {
          "base_uri": "https://localhost:8080/"
        },
        "outputId": "ea511db6-fa5d-4e03-d82a-d254fc17992e",
        "id": "Hxz3IKiuEIrB"
      },
      "execution_count": 52,
      "outputs": [
        {
          "output_type": "stream",
          "name": "stdout",
          "text": [
            "Model accuracy\n",
            "        Valid - Errors - %\n",
            "Total : 1400 - 320 - 81.40% \n",
            "Type 1: 771 - 278 - 73.50% \n",
            "Type 2: 700 - 160 - 81.40%\n"
          ]
        }
      ]
    },
    {
      "cell_type": "code",
      "source": [
        "# check model accuracy\n",
        "\n",
        "print(\n",
        "    \"Model accuracy\"\n",
        "    \"\\nOriginal model versus Undersampling and Oversampling\"\n",
        "    \"\\nTotal : %2.2f%% - %2.2f%% - %2.2f%%\" % (total_valid/total_total*100, total_valid_u/total_total_u*100, total_valid_o/total_total_o*100),\n",
        "    \"\\nType 1: %2.2f%% - %2.2f%% - %2.2f%%\" % (type_1_valid/type_1_total*100, type_1_valid_u/type_1_total_u*100, type_1_valid_o/type_1_total_o*100),\n",
        "    \"\\nType 2: %2.2f%% - %2.2f%% - %2.2f%%\" % (type_2_valid/type_2_total*100, type_2_valid_u/type_2_total_u*100, type_2_valid_o/type_2_total_o*100),\n",
        ")"
      ],
      "metadata": {
        "colab": {
          "base_uri": "https://localhost:8080/"
        },
        "id": "JsZY3HwJEuvn",
        "outputId": "101bcd25-11b1-499d-f600-1f83e44fc137"
      },
      "execution_count": 53,
      "outputs": [
        {
          "output_type": "stream",
          "name": "stdout",
          "text": [
            "Model accuracy\n",
            "Original model versus Undersampling and Oversampling\n",
            "Total : 74.53% - 73.34% - 81.40% \n",
            "Type 1: 74.69% - 73.50% - 73.50% \n",
            "Type 2: 65.00% - 68.57% - 81.40%\n"
          ]
        }
      ]
    },
    {
      "cell_type": "code",
      "source": [
        "# We can make our model more accurate when applying the undersampling or oversampling techniques. In this case, oversampling worked better."
      ],
      "metadata": {
        "id": "Me87_oJIWDqW"
      },
      "execution_count": 54,
      "outputs": []
    }
  ]
}