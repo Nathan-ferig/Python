{
  "nbformat": 4,
  "nbformat_minor": 0,
  "metadata": {
    "colab": {
      "name": ".ipynb",
      "provenance": []
    },
    "kernelspec": {
      "name": "python3",
      "display_name": "Python 3"
    },
    "language_info": {
      "name": "python"
    }
  },
  "cells": [
    {
      "cell_type": "markdown",
      "source": [
        "# Load data"
      ],
      "metadata": {
        "id": "4yWsSjhJFxjT"
      }
    },
    {
      "cell_type": "code",
      "execution_count": 1,
      "metadata": {
        "id": "ob8Fw8KgAk8j"
      },
      "outputs": [],
      "source": [
        "# Import libs\n",
        "\n",
        "# Libs for modeling\n",
        "import numpy as np\n",
        "import pandas as pd\n",
        "import random\n",
        "\n",
        "# Libs for data visualization\n",
        "import matplotlib.pyplot as plt\n",
        "import seaborn as sns\n",
        "\n",
        "# Lib to ignore warnings\n",
        "import warnings\n",
        "warnings.filterwarnings('ignore')"
      ]
    },
    {
      "cell_type": "code",
      "source": [
        "# read data\n",
        "dataset = pd.read_csv('credit_data.csv')\n",
        "dataset.shape"
      ],
      "metadata": {
        "colab": {
          "base_uri": "https://localhost:8080/"
        },
        "id": "c0WmGLmGAstp",
        "outputId": "67c4b443-b409-498d-c29a-17537f9c5171"
      },
      "execution_count": 2,
      "outputs": [
        {
          "output_type": "execute_result",
          "data": {
            "text/plain": [
              "(2000, 5)"
            ]
          },
          "metadata": {},
          "execution_count": 2
        }
      ]
    },
    {
      "cell_type": "code",
      "source": [
        "dataset.head()"
      ],
      "metadata": {
        "colab": {
          "base_uri": "https://localhost:8080/",
          "height": 0
        },
        "id": "XKKLnhjhA9Vk",
        "outputId": "0b6a99d0-2566-4cda-a7e5-08fe04b073d8"
      },
      "execution_count": 3,
      "outputs": [
        {
          "output_type": "execute_result",
          "data": {
            "text/plain": [
              "   i#clientid        income        age         loan  c#default\n",
              "0           1  66155.925095  59.017015  8106.532131          0\n",
              "1           2  34415.153966  48.117153  6564.745018          0\n",
              "2           3  57317.170063  63.108049  8020.953296          0\n",
              "3           4  42709.534201  45.751972  6103.642260          0\n",
              "4           5  66952.688845  18.584336  8770.099235          1"
            ],
            "text/html": [
              "\n",
              "  <div id=\"df-f6f7b2fb-35ab-4b04-bad5-308ec7fc2fa0\">\n",
              "    <div class=\"colab-df-container\">\n",
              "      <div>\n",
              "<style scoped>\n",
              "    .dataframe tbody tr th:only-of-type {\n",
              "        vertical-align: middle;\n",
              "    }\n",
              "\n",
              "    .dataframe tbody tr th {\n",
              "        vertical-align: top;\n",
              "    }\n",
              "\n",
              "    .dataframe thead th {\n",
              "        text-align: right;\n",
              "    }\n",
              "</style>\n",
              "<table border=\"1\" class=\"dataframe\">\n",
              "  <thead>\n",
              "    <tr style=\"text-align: right;\">\n",
              "      <th></th>\n",
              "      <th>i#clientid</th>\n",
              "      <th>income</th>\n",
              "      <th>age</th>\n",
              "      <th>loan</th>\n",
              "      <th>c#default</th>\n",
              "    </tr>\n",
              "  </thead>\n",
              "  <tbody>\n",
              "    <tr>\n",
              "      <th>0</th>\n",
              "      <td>1</td>\n",
              "      <td>66155.925095</td>\n",
              "      <td>59.017015</td>\n",
              "      <td>8106.532131</td>\n",
              "      <td>0</td>\n",
              "    </tr>\n",
              "    <tr>\n",
              "      <th>1</th>\n",
              "      <td>2</td>\n",
              "      <td>34415.153966</td>\n",
              "      <td>48.117153</td>\n",
              "      <td>6564.745018</td>\n",
              "      <td>0</td>\n",
              "    </tr>\n",
              "    <tr>\n",
              "      <th>2</th>\n",
              "      <td>3</td>\n",
              "      <td>57317.170063</td>\n",
              "      <td>63.108049</td>\n",
              "      <td>8020.953296</td>\n",
              "      <td>0</td>\n",
              "    </tr>\n",
              "    <tr>\n",
              "      <th>3</th>\n",
              "      <td>4</td>\n",
              "      <td>42709.534201</td>\n",
              "      <td>45.751972</td>\n",
              "      <td>6103.642260</td>\n",
              "      <td>0</td>\n",
              "    </tr>\n",
              "    <tr>\n",
              "      <th>4</th>\n",
              "      <td>5</td>\n",
              "      <td>66952.688845</td>\n",
              "      <td>18.584336</td>\n",
              "      <td>8770.099235</td>\n",
              "      <td>1</td>\n",
              "    </tr>\n",
              "  </tbody>\n",
              "</table>\n",
              "</div>\n",
              "      <button class=\"colab-df-convert\" onclick=\"convertToInteractive('df-f6f7b2fb-35ab-4b04-bad5-308ec7fc2fa0')\"\n",
              "              title=\"Convert this dataframe to an interactive table.\"\n",
              "              style=\"display:none;\">\n",
              "        \n",
              "  <svg xmlns=\"http://www.w3.org/2000/svg\" height=\"24px\"viewBox=\"0 0 24 24\"\n",
              "       width=\"24px\">\n",
              "    <path d=\"M0 0h24v24H0V0z\" fill=\"none\"/>\n",
              "    <path d=\"M18.56 5.44l.94 2.06.94-2.06 2.06-.94-2.06-.94-.94-2.06-.94 2.06-2.06.94zm-11 1L8.5 8.5l.94-2.06 2.06-.94-2.06-.94L8.5 2.5l-.94 2.06-2.06.94zm10 10l.94 2.06.94-2.06 2.06-.94-2.06-.94-.94-2.06-.94 2.06-2.06.94z\"/><path d=\"M17.41 7.96l-1.37-1.37c-.4-.4-.92-.59-1.43-.59-.52 0-1.04.2-1.43.59L10.3 9.45l-7.72 7.72c-.78.78-.78 2.05 0 2.83L4 21.41c.39.39.9.59 1.41.59.51 0 1.02-.2 1.41-.59l7.78-7.78 2.81-2.81c.8-.78.8-2.07 0-2.86zM5.41 20L4 18.59l7.72-7.72 1.47 1.35L5.41 20z\"/>\n",
              "  </svg>\n",
              "      </button>\n",
              "      \n",
              "  <style>\n",
              "    .colab-df-container {\n",
              "      display:flex;\n",
              "      flex-wrap:wrap;\n",
              "      gap: 12px;\n",
              "    }\n",
              "\n",
              "    .colab-df-convert {\n",
              "      background-color: #E8F0FE;\n",
              "      border: none;\n",
              "      border-radius: 50%;\n",
              "      cursor: pointer;\n",
              "      display: none;\n",
              "      fill: #1967D2;\n",
              "      height: 32px;\n",
              "      padding: 0 0 0 0;\n",
              "      width: 32px;\n",
              "    }\n",
              "\n",
              "    .colab-df-convert:hover {\n",
              "      background-color: #E2EBFA;\n",
              "      box-shadow: 0px 1px 2px rgba(60, 64, 67, 0.3), 0px 1px 3px 1px rgba(60, 64, 67, 0.15);\n",
              "      fill: #174EA6;\n",
              "    }\n",
              "\n",
              "    [theme=dark] .colab-df-convert {\n",
              "      background-color: #3B4455;\n",
              "      fill: #D2E3FC;\n",
              "    }\n",
              "\n",
              "    [theme=dark] .colab-df-convert:hover {\n",
              "      background-color: #434B5C;\n",
              "      box-shadow: 0px 1px 3px 1px rgba(0, 0, 0, 0.15);\n",
              "      filter: drop-shadow(0px 1px 2px rgba(0, 0, 0, 0.3));\n",
              "      fill: #FFFFFF;\n",
              "    }\n",
              "  </style>\n",
              "\n",
              "      <script>\n",
              "        const buttonEl =\n",
              "          document.querySelector('#df-f6f7b2fb-35ab-4b04-bad5-308ec7fc2fa0 button.colab-df-convert');\n",
              "        buttonEl.style.display =\n",
              "          google.colab.kernel.accessAllowed ? 'block' : 'none';\n",
              "\n",
              "        async function convertToInteractive(key) {\n",
              "          const element = document.querySelector('#df-f6f7b2fb-35ab-4b04-bad5-308ec7fc2fa0');\n",
              "          const dataTable =\n",
              "            await google.colab.kernel.invokeFunction('convertToInteractive',\n",
              "                                                     [key], {});\n",
              "          if (!dataTable) return;\n",
              "\n",
              "          const docLinkHtml = 'Like what you see? Visit the ' +\n",
              "            '<a target=\"_blank\" href=https://colab.research.google.com/notebooks/data_table.ipynb>data table notebook</a>'\n",
              "            + ' to learn more about interactive tables.';\n",
              "          element.innerHTML = '';\n",
              "          dataTable['output_type'] = 'display_data';\n",
              "          await google.colab.output.renderOutput(dataTable, element);\n",
              "          const docLink = document.createElement('div');\n",
              "          docLink.innerHTML = docLinkHtml;\n",
              "          element.appendChild(docLink);\n",
              "        }\n",
              "      </script>\n",
              "    </div>\n",
              "  </div>\n",
              "  "
            ]
          },
          "metadata": {},
          "execution_count": 3
        }
      ]
    },
    {
      "cell_type": "code",
      "source": [
        "# null analysis\n",
        "dataset.isnull().sum()"
      ],
      "metadata": {
        "colab": {
          "base_uri": "https://localhost:8080/"
        },
        "id": "l0FFRD-FBFJM",
        "outputId": "3b064a8f-741b-46c9-e38c-f2758bb9f52a"
      },
      "execution_count": 4,
      "outputs": [
        {
          "output_type": "execute_result",
          "data": {
            "text/plain": [
              "i#clientid    0\n",
              "income        0\n",
              "age           3\n",
              "loan          0\n",
              "c#default     0\n",
              "dtype: int64"
            ]
          },
          "metadata": {},
          "execution_count": 4
        }
      ]
    },
    {
      "cell_type": "code",
      "source": [
        "# null analysis\n",
        "plt.figure( figsize=(12,6))\n",
        "plt.title('Null Analysis')\n",
        "sns.heatmap( dataset.isnull(), cbar=False );"
      ],
      "metadata": {
        "colab": {
          "base_uri": "https://localhost:8080/",
          "height": 0
        },
        "id": "vcL_8pNZBGmX",
        "outputId": "b1dc0253-7416-4aed-edb4-41e4c786b8a4"
      },
      "execution_count": 5,
      "outputs": [
        {
          "output_type": "display_data",
          "data": {
            "text/plain": [
              "<Figure size 864x432 with 1 Axes>"
            ],
            "image/png": "[encoded data removed]"
          },
          "metadata": {
            "needs_background": "light"
          }
        }
      ]
    },
    {
      "cell_type": "code",
      "source": [
        "# delete rows with empty age\n",
        "dataset.dropna(inplace=True)\n",
        "dataset.shape"
      ],
      "metadata": {
        "colab": {
          "base_uri": "https://localhost:8080/"
        },
        "id": "Y2WeozkzBtXL",
        "outputId": "c9ffcbd4-bf67-4cd0-bb9f-965e021b4c25"
      },
      "execution_count": 6,
      "outputs": [
        {
          "output_type": "execute_result",
          "data": {
            "text/plain": [
              "(1997, 5)"
            ]
          },
          "metadata": {},
          "execution_count": 6
        }
      ]
    },
    {
      "cell_type": "code",
      "source": [
        "# c#default analysis\n",
        "dataset.groupby('c#default')['c#default'].count()"
      ],
      "metadata": {
        "colab": {
          "base_uri": "https://localhost:8080/"
        },
        "id": "H0rtC-LvCVJz",
        "outputId": "8e373d2d-b131-4e08-8963-630c3392041b"
      },
      "execution_count": 7,
      "outputs": [
        {
          "output_type": "execute_result",
          "data": {
            "text/plain": [
              "c#default\n",
              "0    1714\n",
              "1     283\n",
              "Name: c#default, dtype: int64"
            ]
          },
          "metadata": {},
          "execution_count": 7
        }
      ]
    },
    {
      "cell_type": "code",
      "source": [
        "# c#default analysis\n",
        "sns.countplot(dataset['c#default']);"
      ],
      "metadata": {
        "colab": {
          "base_uri": "https://localhost:8080/",
          "height": 0
        },
        "id": "fM54o-oPByyH",
        "outputId": "9287e5ef-33b0-40b6-a272-54d0fef153c0"
      },
      "execution_count": 8,
      "outputs": [
        {
          "output_type": "display_data",
          "data": {
            "text/plain": [
              "<Figure size 432x288 with 1 Axes>"
            ],
            "image/png": "[encoded data removed]"
          },
          "metadata": {
            "needs_background": "light"
          }
        }
      ]
    },
    {
      "cell_type": "markdown",
      "source": [
        "# Split dataset"
      ],
      "metadata": {
        "id": "oTQAQ1-mFrnD"
      }
    },
    {
      "cell_type": "code",
      "source": [
        "# split dataset into x and y sets\n",
        "X = dataset.iloc[:, 1:4].values\n",
        "X.shape"
      ],
      "metadata": {
        "colab": {
          "base_uri": "https://localhost:8080/"
        },
        "id": "aRVmRAJyCHcG",
        "outputId": "5c537671-1148-47e5-d32a-3572e4524984"
      },
      "execution_count": 9,
      "outputs": [
        {
          "output_type": "execute_result",
          "data": {
            "text/plain": [
              "(1997, 3)"
            ]
          },
          "metadata": {},
          "execution_count": 9
        }
      ]
    },
    {
      "cell_type": "code",
      "source": [
        "X"
      ],
      "metadata": {
        "colab": {
          "base_uri": "https://localhost:8080/"
        },
        "id": "zw5UtSZgDMEl",
        "outputId": "70af155c-da97-4162-daba-41a68b78e96b"
      },
      "execution_count": 10,
      "outputs": [
        {
          "output_type": "execute_result",
          "data": {
            "text/plain": [
              "array([[6.61559251e+04, 5.90170151e+01, 8.10653213e+03],\n",
              "       [3.44151540e+04, 4.81171531e+01, 6.56474502e+03],\n",
              "       [5.73171701e+04, 6.31080495e+01, 8.02095330e+03],\n",
              "       ...,\n",
              "       [4.43114493e+04, 2.80171669e+01, 5.52278669e+03],\n",
              "       [4.37560566e+04, 6.39717958e+01, 1.62272260e+03],\n",
              "       [6.94365796e+04, 5.61526170e+01, 7.37883360e+03]])"
            ]
          },
          "metadata": {},
          "execution_count": 10
        }
      ]
    },
    {
      "cell_type": "code",
      "source": [
        "Y = dataset.iloc[:, 4].values\n",
        "Y.shape"
      ],
      "metadata": {
        "colab": {
          "base_uri": "https://localhost:8080/"
        },
        "id": "cM4dfEb4DPrt",
        "outputId": "1302ecab-21e6-4530-f301-f04577423a06"
      },
      "execution_count": 11,
      "outputs": [
        {
          "output_type": "execute_result",
          "data": {
            "text/plain": [
              "(1997,)"
            ]
          },
          "metadata": {},
          "execution_count": 11
        }
      ]
    },
    {
      "cell_type": "code",
      "source": [
        "Y"
      ],
      "metadata": {
        "colab": {
          "base_uri": "https://localhost:8080/"
        },
        "id": "87dghi5LDccW",
        "outputId": "cd43d4d4-c1fa-4e86-a6c2-172ca63a0c38"
      },
      "execution_count": 12,
      "outputs": [
        {
          "output_type": "execute_result",
          "data": {
            "text/plain": [
              "array([0, 0, 0, ..., 1, 0, 0])"
            ]
          },
          "metadata": {},
          "execution_count": 12
        }
      ]
    },
    {
      "cell_type": "code",
      "source": [
        "# import sklearn to train our model\n",
        "from sklearn.model_selection import train_test_split"
      ],
      "metadata": {
        "id": "NtgybSI_Dc0M"
      },
      "execution_count": 13,
      "outputs": []
    },
    {
      "cell_type": "code",
      "source": [
        "# create training and test\n",
        "X_training, X_test, Y_training, Y_test = train_test_split(X, Y, test_size = 0.2, stratify = Y)"
      ],
      "metadata": {
        "id": "oFSdvKynFAY2"
      },
      "execution_count": 14,
      "outputs": []
    },
    {
      "cell_type": "code",
      "metadata": {
        "id": "XPFAJJLSEfvA",
        "colab": {
          "base_uri": "https://localhost:8080/"
        },
        "outputId": "980d1af3-0af0-4fe4-e802-dd03031145e0"
      },
      "source": [
        "X_training.shape, Y_training.shape"
      ],
      "execution_count": 15,
      "outputs": [
        {
          "output_type": "execute_result",
          "data": {
            "text/plain": [
              "((1597, 3), (1597,))"
            ]
          },
          "metadata": {},
          "execution_count": 15
        }
      ]
    },
    {
      "cell_type": "code",
      "metadata": {
        "id": "OcybzfVgEn4X",
        "colab": {
          "base_uri": "https://localhost:8080/"
        },
        "outputId": "31f866a5-8e20-4948-aac1-9bbb7eb3f385"
      },
      "source": [
        "X_test.shape, Y_test.shape"
      ],
      "execution_count": 16,
      "outputs": [
        {
          "output_type": "execute_result",
          "data": {
            "text/plain": [
              "((400, 3), (400,))"
            ]
          },
          "metadata": {},
          "execution_count": 16
        }
      ]
    },
    {
      "cell_type": "code",
      "metadata": {
        "id": "de3wr-qNExjP",
        "colab": {
          "base_uri": "https://localhost:8080/"
        },
        "outputId": "5540e92a-8d3f-47a0-840d-a3054d6d9fa7"
      },
      "source": [
        "# check percentage between the splitted dataset\n",
        "np.unique(Y, return_counts=True)"
      ],
      "execution_count": 17,
      "outputs": [
        {
          "output_type": "execute_result",
          "data": {
            "text/plain": [
              "(array([0, 1]), array([1714,  283]))"
            ]
          },
          "metadata": {},
          "execution_count": 17
        }
      ]
    },
    {
      "cell_type": "code",
      "metadata": {
        "id": "02IABsqmE6Hz",
        "colab": {
          "base_uri": "https://localhost:8080/"
        },
        "outputId": "56a3ad5d-6e24-4068-f1f6-f7431fa3dffa"
      },
      "source": [
        "1714 / len(dataset), 283 / len(dataset)"
      ],
      "execution_count": 18,
      "outputs": [
        {
          "output_type": "execute_result",
          "data": {
            "text/plain": [
              "(0.8582874311467201, 0.14171256885327993)"
            ]
          },
          "metadata": {},
          "execution_count": 18
        }
      ]
    },
    {
      "cell_type": "code",
      "metadata": {
        "id": "UZuSePYMFJUw",
        "colab": {
          "base_uri": "https://localhost:8080/"
        },
        "outputId": "8666a815-6ff5-4780-d9b6-0afb40c15690"
      },
      "source": [
        "np.unique(Y_training, return_counts=True)"
      ],
      "execution_count": 19,
      "outputs": [
        {
          "output_type": "execute_result",
          "data": {
            "text/plain": [
              "(array([0, 1]), array([1371,  226]))"
            ]
          },
          "metadata": {},
          "execution_count": 19
        }
      ]
    },
    {
      "cell_type": "code",
      "metadata": {
        "id": "vdyeXcD8FX4C",
        "colab": {
          "base_uri": "https://localhost:8080/"
        },
        "outputId": "9c7d59d4-d947-4004-96e0-5dd09b64b072"
      },
      "source": [
        "226 / len(Y_training)"
      ],
      "execution_count": 20,
      "outputs": [
        {
          "output_type": "execute_result",
          "data": {
            "text/plain": [
              "0.14151534126487164"
            ]
          },
          "metadata": {},
          "execution_count": 20
        }
      ]
    },
    {
      "cell_type": "code",
      "metadata": {
        "id": "cfIrILE6FdyZ",
        "colab": {
          "base_uri": "https://localhost:8080/"
        },
        "outputId": "2a6caf2f-b458-42b1-8555-319536b0c055"
      },
      "source": [
        "np.unique(Y_test, return_counts=True)"
      ],
      "execution_count": 21,
      "outputs": [
        {
          "output_type": "execute_result",
          "data": {
            "text/plain": [
              "(array([0, 1]), array([343,  57]))"
            ]
          },
          "metadata": {},
          "execution_count": 21
        }
      ]
    },
    {
      "cell_type": "code",
      "metadata": {
        "id": "gFwlnLf6Fhs_",
        "colab": {
          "base_uri": "https://localhost:8080/"
        },
        "outputId": "e6cff3a3-96f8-4754-95bb-eb7539991e8d"
      },
      "source": [
        "57 / len(Y_test)"
      ],
      "execution_count": 22,
      "outputs": [
        {
          "output_type": "execute_result",
          "data": {
            "text/plain": [
              "0.1425"
            ]
          },
          "metadata": {},
          "execution_count": 22
        }
      ]
    },
    {
      "cell_type": "markdown",
      "source": [
        "# Classification "
      ],
      "metadata": {
        "id": "1gUiAQAAGgha"
      }
    },
    {
      "cell_type": "code",
      "source": [
        "from sklearn.naive_bayes import GaussianNB"
      ],
      "metadata": {
        "id": "rFOkrj6wGjOm"
      },
      "execution_count": 23,
      "outputs": []
    },
    {
      "cell_type": "code",
      "source": [
        "model = GaussianNB()\n",
        "model.fit(X_training, Y_training)"
      ],
      "metadata": {
        "colab": {
          "base_uri": "https://localhost:8080/"
        },
        "id": "cci4mvHxGtf0",
        "outputId": "e29bc56c-6677-4a7f-d915-574588fb859f"
      },
      "execution_count": 24,
      "outputs": [
        {
          "output_type": "execute_result",
          "data": {
            "text/plain": [
              "GaussianNB()"
            ]
          },
          "metadata": {},
          "execution_count": 24
        }
      ]
    },
    {
      "cell_type": "code",
      "source": [
        "predicted = model.predict(X_test)\n",
        "predicted"
      ],
      "metadata": {
        "colab": {
          "base_uri": "https://localhost:8080/"
        },
        "id": "8lOouyLRG2ic",
        "outputId": "46ca66d7-0edb-4b96-f056-b581567c16ee"
      },
      "execution_count": 25,
      "outputs": [
        {
          "output_type": "execute_result",
          "data": {
            "text/plain": [
              "array([0, 0, 0, 0, 0, 0, 0, 0, 0, 0, 0, 0, 0, 0, 0, 0, 0, 0, 0, 0, 0, 0,\n",
              "       0, 0, 1, 0, 1, 0, 0, 0, 0, 0, 0, 1, 1, 0, 0, 0, 0, 0, 0, 0, 0, 0,\n",
              "       0, 0, 1, 0, 0, 0, 0, 0, 0, 0, 1, 0, 1, 0, 0, 0, 0, 1, 0, 0, 0, 0,\n",
              "       0, 0, 1, 0, 0, 1, 0, 0, 0, 0, 0, 0, 1, 0, 0, 0, 0, 0, 0, 0, 0, 0,\n",
              "       0, 0, 1, 0, 0, 0, 0, 1, 1, 0, 0, 1, 0, 0, 0, 0, 0, 0, 0, 0, 0, 0,\n",
              "       1, 0, 0, 0, 0, 0, 0, 0, 0, 0, 0, 0, 0, 0, 0, 0, 0, 0, 0, 0, 0, 0,\n",
              "       0, 0, 1, 1, 0, 0, 0, 0, 0, 0, 0, 0, 0, 0, 0, 1, 0, 0, 0, 0, 0, 0,\n",
              "       0, 0, 0, 0, 0, 1, 0, 0, 0, 0, 0, 0, 0, 0, 0, 0, 1, 0, 0, 0, 0, 0,\n",
              "       0, 0, 0, 0, 0, 0, 0, 0, 0, 0, 0, 0, 0, 0, 1, 0, 0, 0, 0, 0, 0, 0,\n",
              "       0, 0, 0, 0, 0, 0, 0, 0, 0, 0, 0, 0, 0, 0, 0, 0, 0, 0, 0, 0, 0, 0,\n",
              "       0, 0, 0, 0, 0, 0, 0, 0, 0, 0, 0, 0, 0, 0, 0, 0, 0, 0, 0, 0, 0, 0,\n",
              "       0, 0, 0, 0, 0, 0, 0, 0, 0, 0, 0, 0, 1, 0, 0, 1, 0, 0, 0, 0, 0, 0,\n",
              "       0, 0, 0, 0, 1, 0, 0, 0, 0, 0, 0, 0, 0, 0, 0, 0, 1, 0, 0, 0, 1, 0,\n",
              "       0, 0, 0, 0, 1, 0, 0, 0, 0, 0, 0, 1, 0, 0, 0, 0, 0, 1, 1, 0, 1, 0,\n",
              "       0, 0, 0, 0, 0, 0, 0, 0, 0, 0, 0, 0, 0, 0, 0, 0, 0, 0, 0, 0, 0, 0,\n",
              "       0, 0, 0, 0, 0, 0, 0, 0, 1, 0, 1, 0, 0, 1, 0, 0, 0, 0, 0, 0, 0, 0,\n",
              "       0, 0, 0, 1, 0, 0, 0, 0, 0, 0, 0, 0, 0, 0, 0, 1, 1, 0, 0, 0, 0, 1,\n",
              "       1, 0, 0, 0, 0, 0, 0, 0, 0, 1, 0, 0, 0, 0, 0, 0, 0, 0, 0, 0, 0, 0,\n",
              "       0, 0, 0, 0])"
            ]
          },
          "metadata": {},
          "execution_count": 25
        }
      ]
    },
    {
      "cell_type": "code",
      "source": [
        "Y_test"
      ],
      "metadata": {
        "colab": {
          "base_uri": "https://localhost:8080/"
        },
        "id": "blOxpSBdHAvk",
        "outputId": "4527abcf-5dd0-47bb-a282-177e9027dc00"
      },
      "execution_count": 26,
      "outputs": [
        {
          "output_type": "execute_result",
          "data": {
            "text/plain": [
              "array([0, 0, 0, 0, 0, 0, 0, 0, 0, 0, 0, 0, 0, 0, 0, 0, 0, 0, 0, 0, 0, 1,\n",
              "       1, 0, 0, 0, 1, 0, 0, 0, 0, 0, 0, 1, 1, 0, 0, 0, 0, 0, 0, 0, 0, 0,\n",
              "       0, 0, 1, 0, 0, 0, 0, 1, 0, 0, 1, 1, 1, 0, 0, 0, 0, 1, 0, 0, 0, 0,\n",
              "       0, 0, 0, 0, 0, 1, 0, 0, 1, 0, 0, 0, 1, 0, 0, 0, 0, 0, 0, 0, 0, 0,\n",
              "       0, 0, 1, 0, 0, 0, 0, 1, 0, 0, 0, 1, 0, 0, 0, 0, 0, 0, 0, 0, 0, 0,\n",
              "       1, 0, 0, 0, 0, 0, 0, 0, 0, 0, 1, 0, 0, 0, 0, 0, 0, 0, 0, 0, 0, 1,\n",
              "       0, 0, 1, 0, 0, 0, 0, 0, 0, 1, 0, 0, 0, 0, 0, 1, 0, 0, 0, 0, 0, 0,\n",
              "       0, 0, 0, 0, 0, 1, 0, 0, 0, 0, 1, 0, 0, 0, 0, 0, 1, 0, 0, 0, 0, 0,\n",
              "       0, 0, 1, 0, 0, 0, 0, 0, 0, 0, 0, 1, 0, 0, 1, 0, 0, 0, 0, 0, 0, 0,\n",
              "       0, 0, 0, 0, 1, 0, 0, 0, 0, 1, 0, 0, 0, 0, 0, 0, 0, 0, 0, 0, 0, 0,\n",
              "       0, 0, 0, 0, 1, 0, 0, 1, 0, 0, 0, 0, 0, 0, 0, 0, 0, 0, 0, 0, 0, 0,\n",
              "       0, 0, 0, 0, 0, 0, 0, 0, 0, 0, 0, 0, 1, 0, 0, 0, 0, 0, 0, 0, 0, 0,\n",
              "       0, 0, 0, 0, 0, 0, 0, 0, 0, 1, 0, 0, 0, 0, 0, 0, 1, 0, 1, 0, 1, 0,\n",
              "       0, 0, 0, 0, 1, 0, 0, 0, 0, 0, 0, 1, 0, 0, 0, 0, 0, 1, 0, 0, 1, 0,\n",
              "       0, 0, 0, 0, 0, 0, 0, 0, 0, 0, 1, 0, 0, 0, 0, 0, 0, 0, 0, 0, 1, 0,\n",
              "       0, 0, 0, 0, 0, 0, 0, 0, 1, 0, 1, 0, 0, 1, 0, 0, 0, 0, 0, 0, 0, 0,\n",
              "       0, 0, 0, 1, 0, 0, 0, 0, 0, 0, 0, 0, 0, 0, 0, 1, 0, 0, 0, 0, 0, 1,\n",
              "       1, 0, 0, 0, 1, 1, 0, 0, 0, 1, 1, 0, 0, 1, 0, 0, 1, 0, 0, 0, 0, 0,\n",
              "       0, 0, 0, 0])"
            ]
          },
          "metadata": {},
          "execution_count": 26
        }
      ]
    },
    {
      "cell_type": "code",
      "source": [
        "from sklearn.metrics import accuracy_score"
      ],
      "metadata": {
        "id": "HXMdxVNVHNCB"
      },
      "execution_count": 27,
      "outputs": []
    },
    {
      "cell_type": "code",
      "source": [
        "accuracy_score(predicted, Y_test)"
      ],
      "metadata": {
        "colab": {
          "base_uri": "https://localhost:8080/"
        },
        "id": "V13J7B6hHRIC",
        "outputId": "fc881230-85e8-42cd-f6c0-4d59da2c5d5f"
      },
      "execution_count": 28,
      "outputs": [
        {
          "output_type": "execute_result",
          "data": {
            "text/plain": [
              "0.92"
            ]
          },
          "metadata": {},
          "execution_count": 28
        }
      ]
    },
    {
      "cell_type": "code",
      "source": [
        "from sklearn.metrics import confusion_matrix"
      ],
      "metadata": {
        "id": "if8nFyr_HWQj"
      },
      "execution_count": 29,
      "outputs": []
    },
    {
      "cell_type": "code",
      "source": [
        "cm = confusion_matrix(predicted, Y_test)\n",
        "cm"
      ],
      "metadata": {
        "colab": {
          "base_uri": "https://localhost:8080/"
        },
        "id": "2dLwMsn7HbPi",
        "outputId": "abc4170f-34c4-4b10-e81a-cc2e80f99b26"
      },
      "execution_count": 30,
      "outputs": [
        {
          "output_type": "execute_result",
          "data": {
            "text/plain": [
              "array([[335,  24],\n",
              "       [  8,  33]])"
            ]
          },
          "metadata": {},
          "execution_count": 30
        }
      ]
    },
    {
      "cell_type": "code",
      "source": [
        "sns.heatmap( cm, annot=True);"
      ],
      "metadata": {
        "id": "AmnDdfg3HjJz",
        "outputId": "7544c9f0-425a-4a27-bb6b-b1fda6b71854",
        "colab": {
          "base_uri": "https://localhost:8080/",
          "height": 265
        }
      },
      "execution_count": 31,
      "outputs": [
        {
          "output_type": "display_data",
          "data": {
            "text/plain": [
              "<Figure size 432x288 with 2 Axes>"
            ],
            "image/png": "[encoded data removed]"
          },
          "metadata": {
            "needs_background": "light"
          }
        }
      ]
    },
    {
      "cell_type": "code",
      "source": [
        "# check model accuracy\n",
        "\n",
        "total_valid = cm[0,0] + cm[1,1]\n",
        "total_errors = cm[0,1] + cm[1,0]\n",
        "total_total = total_valid + total_errors\n",
        "\n",
        "type_1_valid = cm[0,0]\n",
        "type_1_errors = cm[0,1]\n",
        "type_1_total = type_1_valid + type_1_errors\n",
        "\n",
        "type_2_valid = cm[1,1]\n",
        "type_2_errors = cm[1,0]\n",
        "type_2_total = type_2_valid + type_2_errors\n",
        "\n",
        "\n",
        "print(\n",
        "    \"Model accuracy\"\n",
        "    \"\\n        Valid - Errors - %%\"\n",
        "    \"\\nTotal : %2i - %2i - %2.2f%%\" % (total_valid, total_errors, total_valid/total_total*100),\n",
        "    \"\\nType 1: %2i - %i - %2.2f%%\" % (type_1_valid, type_1_errors, type_1_valid/type_1_total*100),\n",
        "    \"\\nType 2: %2i - %2i - %2.2f%%\" % (type_2_valid, type_2_errors, type_2_valid/type_2_total*100),\n",
        ")"
      ],
      "metadata": {
        "colab": {
          "base_uri": "https://localhost:8080/"
        },
        "id": "q7Z4l648JGeF",
        "outputId": "ae8967b5-b45e-44dc-ce7d-7c44217eae9c"
      },
      "execution_count": 32,
      "outputs": [
        {
          "output_type": "stream",
          "name": "stdout",
          "text": [
            "Model accuracy\n",
            "        Valid - Errors - %\n",
            "Total : 368 - 32 - 92.00% \n",
            "Type 1: 335 - 24 - 93.31% \n",
            "Type 2: 33 -  8 - 80.49%\n"
          ]
        }
      ]
    },
    {
      "cell_type": "code",
      "source": [
        "# Model accuracy may be quite high when we look into the total number of cases. \n",
        "# But when we dig into the different categories, we see that the model did not work so well in predicting the type 2 cases."
      ],
      "metadata": {
        "id": "w2JSE0UdN4Ve"
      },
      "execution_count": 33,
      "outputs": []
    },
    {
      "cell_type": "markdown",
      "source": [
        "# Undersampling and Oversampling"
      ],
      "metadata": {
        "id": "rEllSRvvTzLe"
      }
    },
    {
      "cell_type": "code",
      "source": [
        "# undersampling\n",
        "\n",
        "from imblearn.under_sampling import TomekLinks"
      ],
      "metadata": {
        "id": "mruzKh81T0wa"
      },
      "execution_count": 34,
      "outputs": []
    },
    {
      "cell_type": "code",
      "source": [
        "tl = TomekLinks(sampling_strategy='majority')\n",
        "X_under, y_under = tl.fit_resample(X, Y)"
      ],
      "metadata": {
        "id": "JmMIVCQGT5CP"
      },
      "execution_count": 35,
      "outputs": []
    },
    {
      "cell_type": "code",
      "source": [
        "X_under.shape, y_under.shape"
      ],
      "metadata": {
        "colab": {
          "base_uri": "https://localhost:8080/"
        },
        "id": "b9WeYUWbVlMz",
        "outputId": "79f9e422-f9f6-4227-e11f-0992631c79bb"
      },
      "execution_count": 36,
      "outputs": [
        {
          "output_type": "execute_result",
          "data": {
            "text/plain": [
              "((1897, 3), (1897,))"
            ]
          },
          "metadata": {},
          "execution_count": 36
        }
      ]
    },
    {
      "cell_type": "code",
      "metadata": {
        "id": "j3tJD1SkNAzW",
        "colab": {
          "base_uri": "https://localhost:8080/"
        },
        "outputId": "0f52c5be-4681-46d3-bd03-c97b836200f5"
      },
      "source": [
        "# original dataset\n",
        "np.unique(Y, return_counts=True)"
      ],
      "execution_count": 37,
      "outputs": [
        {
          "output_type": "execute_result",
          "data": {
            "text/plain": [
              "(array([0, 1]), array([1714,  283]))"
            ]
          },
          "metadata": {},
          "execution_count": 37
        }
      ]
    },
    {
      "cell_type": "code",
      "metadata": {
        "id": "HKn8t_YxNFo6",
        "colab": {
          "base_uri": "https://localhost:8080/"
        },
        "outputId": "37bda395-bd66-4f2a-b0ac-86aba303cdfd"
      },
      "source": [
        "# undersampling set (with reduced cases for the majority class)\n",
        "np.unique(y_under, return_counts=True)"
      ],
      "execution_count": 38,
      "outputs": [
        {
          "output_type": "execute_result",
          "data": {
            "text/plain": [
              "(array([0, 1]), array([1614,  283]))"
            ]
          },
          "metadata": {},
          "execution_count": 38
        }
      ]
    },
    {
      "cell_type": "code",
      "source": [
        "# create training and test\n",
        "X_training_u, X_test_u, y_training_u, y_test_u = train_test_split(X_under, y_under, test_size = 0.2, stratify = y_under)\n",
        "\n",
        "X_training_u.shape, X_test_u.shape"
      ],
      "metadata": {
        "colab": {
          "base_uri": "https://localhost:8080/"
        },
        "id": "Arew3gOBWDgN",
        "outputId": "3602d86e-6994-4a5e-ee65-8671ee68e2e8"
      },
      "execution_count": 39,
      "outputs": [
        {
          "output_type": "execute_result",
          "data": {
            "text/plain": [
              "((1517, 3), (380, 3))"
            ]
          },
          "metadata": {},
          "execution_count": 39
        }
      ]
    },
    {
      "cell_type": "code",
      "source": [
        "model_u = GaussianNB()\n",
        "model_u.fit(X_training_u, y_training_u)\n",
        "predicted_u = model_u.predict(X_test_u)\n",
        "accuracy_score(y_test_u,predicted_u ) "
      ],
      "metadata": {
        "colab": {
          "base_uri": "https://localhost:8080/"
        },
        "id": "-2jH30DAWWDc",
        "outputId": "a9ad3e91-dc84-4778-cca9-7cd50c2ad05b"
      },
      "execution_count": 40,
      "outputs": [
        {
          "output_type": "execute_result",
          "data": {
            "text/plain": [
              "0.9263157894736842"
            ]
          },
          "metadata": {},
          "execution_count": 40
        }
      ]
    },
    {
      "cell_type": "code",
      "source": [
        "cm_u = confusion_matrix(predicted_u,y_test_u)\n",
        "cm_u"
      ],
      "metadata": {
        "colab": {
          "base_uri": "https://localhost:8080/"
        },
        "id": "FmbG15bcXX0N",
        "outputId": "20b92267-c713-4b4e-93d5-1d3010f6fada"
      },
      "execution_count": 41,
      "outputs": [
        {
          "output_type": "execute_result",
          "data": {
            "text/plain": [
              "array([[315,  20],\n",
              "       [  8,  37]])"
            ]
          },
          "metadata": {},
          "execution_count": 41
        }
      ]
    },
    {
      "cell_type": "code",
      "source": [
        "# check model accuracy\n",
        "\n",
        "total_valid_u = cm_u[0,0] + cm_u[1,1]\n",
        "total_errors_u = cm_u[0,1] + cm_u[1,0]\n",
        "total_total_u = total_valid_u + total_errors_u\n",
        "\n",
        "type_1_valid_u = cm_u[0,0]\n",
        "type_1_errors_u = cm_u[0,1]\n",
        "type_1_total_u = type_1_valid_u + type_1_errors_u\n",
        "\n",
        "type_2_valid_u = cm_u[1,1]\n",
        "type_2_errors_u = cm_u[1,0]\n",
        "type_2_total_u = type_2_valid_u + type_2_errors_u\n",
        "\n",
        "\n",
        "print(\n",
        "    \"Model accuracy\"\n",
        "    \"\\n        Valid - Errors - %%\"\n",
        "    \"\\nTotal : %2i - %2i - %2.2f%%\" % (total_valid_u, total_errors_u, total_valid_u/total_total_u*100),\n",
        "    \"\\nType 1: %2i - %i - %2.2f%%\" % (type_1_valid_u, type_1_errors_u, type_1_valid_u/type_1_total_u*100),\n",
        "    \"\\nType 2: %2i - %2i - %2.2f%%\" % (type_2_valid_u, type_2_errors_u, type_2_valid_u/type_2_total_u*100),\n",
        ")"
      ],
      "metadata": {
        "colab": {
          "base_uri": "https://localhost:8080/"
        },
        "id": "gHFRpJ1eXkZF",
        "outputId": "5efb7a8b-537f-41a7-9f4e-874beeccbb39"
      },
      "execution_count": 42,
      "outputs": [
        {
          "output_type": "stream",
          "name": "stdout",
          "text": [
            "Model accuracy\n",
            "        Valid - Errors - %\n",
            "Total : 352 - 28 - 92.63% \n",
            "Type 1: 315 - 20 - 94.03% \n",
            "Type 2: 37 -  8 - 82.22%\n"
          ]
        }
      ]
    },
    {
      "cell_type": "code",
      "source": [
        "# check model accuracy\n",
        "\n",
        "print(\n",
        "    \"Model accuracy - Original model versus Undersampling\"\n",
        "    \"\\nTotal : %2.2f%% - %2.2f%%\" % (total_valid/total_total*100, total_valid_u/total_total_u*100),\n",
        "    \"\\nType 1: %2.2f%% - %2.2f%%\" % (type_1_valid/type_1_total*100, type_1_valid_u/type_1_total_u*100),\n",
        "    \"\\nType 2: %2.2f%% - %2.2f%%\" % (type_2_valid/type_2_total*100, type_2_valid_u/type_2_total_u*100),\n",
        ")"
      ],
      "metadata": {
        "colab": {
          "base_uri": "https://localhost:8080/"
        },
        "id": "mQA5V8QqYxXU",
        "outputId": "2a7b2a36-b889-44f4-8f53-49c9b77c10c6"
      },
      "execution_count": 43,
      "outputs": [
        {
          "output_type": "stream",
          "name": "stdout",
          "text": [
            "Model accuracy - Original model versus Undersampling\n",
            "Total : 92.00% - 92.63% \n",
            "Type 1: 93.31% - 94.03% \n",
            "Type 2: 80.49% - 82.22%\n"
          ]
        }
      ]
    },
    {
      "cell_type": "code",
      "metadata": {
        "id": "afZorNsRP2ZO"
      },
      "source": [
        "# oversampling\n",
        "\n",
        "from imblearn.over_sampling import SMOTE"
      ],
      "execution_count": 44,
      "outputs": []
    },
    {
      "cell_type": "code",
      "metadata": {
        "id": "-dqqqfx4P8BS"
      },
      "source": [
        "smote = SMOTE(sampling_strategy='minority')\n",
        "X_over, y_over = smote.fit_resample(X, Y)"
      ],
      "execution_count": 45,
      "outputs": []
    },
    {
      "cell_type": "code",
      "metadata": {
        "id": "ARlvsdYbQN50",
        "colab": {
          "base_uri": "https://localhost:8080/"
        },
        "outputId": "16c62e7f-0c6f-44f8-828c-03a564b34b52"
      },
      "source": [
        "X_over.shape, y_over.shape"
      ],
      "execution_count": 46,
      "outputs": [
        {
          "output_type": "execute_result",
          "data": {
            "text/plain": [
              "((3428, 3), (3428,))"
            ]
          },
          "metadata": {},
          "execution_count": 46
        }
      ]
    },
    {
      "cell_type": "code",
      "metadata": {
        "id": "yDjesKDwQUJQ",
        "colab": {
          "base_uri": "https://localhost:8080/"
        },
        "outputId": "008e9b4e-51cf-4491-aecf-0a2269974424"
      },
      "source": [
        "np.unique(Y, return_counts=True)"
      ],
      "execution_count": 47,
      "outputs": [
        {
          "output_type": "execute_result",
          "data": {
            "text/plain": [
              "(array([0, 1]), array([1714,  283]))"
            ]
          },
          "metadata": {},
          "execution_count": 47
        }
      ]
    },
    {
      "cell_type": "code",
      "metadata": {
        "id": "StbCHeZSQYd3",
        "colab": {
          "base_uri": "https://localhost:8080/"
        },
        "outputId": "0ad0440a-2989-48aa-df70-26f1e913367a"
      },
      "source": [
        "np.unique(y_over, return_counts=True)"
      ],
      "execution_count": 48,
      "outputs": [
        {
          "output_type": "execute_result",
          "data": {
            "text/plain": [
              "(array([0, 1]), array([1714, 1714]))"
            ]
          },
          "metadata": {},
          "execution_count": 48
        }
      ]
    },
    {
      "cell_type": "code",
      "metadata": {
        "id": "6CQ2NDEUQiZG"
      },
      "source": [
        "X_training_o, X_test_o, y_training_o, y_test_o = train_test_split(X_over, y_over,\n",
        "                                                                          test_size = 0.2,\n",
        "                                                                          stratify=y_over)"
      ],
      "execution_count": 49,
      "outputs": []
    },
    {
      "cell_type": "code",
      "source": [
        "X_training_o.shape, X_test_o.shape"
      ],
      "metadata": {
        "colab": {
          "base_uri": "https://localhost:8080/"
        },
        "id": "ELFXloBvD6X1",
        "outputId": "a2ddf1da-dab1-429d-9b7e-ad67f0ddb4d8"
      },
      "execution_count": 50,
      "outputs": [
        {
          "output_type": "execute_result",
          "data": {
            "text/plain": [
              "((2742, 3), (686, 3))"
            ]
          },
          "metadata": {},
          "execution_count": 50
        }
      ]
    },
    {
      "cell_type": "code",
      "source": [
        "model_o = GaussianNB()\n",
        "model_o.fit(X_training_o, y_training_o)\n",
        "predicted_o = model_o.predict(X_test_o)\n",
        "accuracy_score(y_test_o,predicted_o ) "
      ],
      "metadata": {
        "colab": {
          "base_uri": "https://localhost:8080/"
        },
        "outputId": "2027c044-b54f-4404-fa1c-2b950f8fed1b",
        "id": "EncPoYMkEIq_"
      },
      "execution_count": 51,
      "outputs": [
        {
          "output_type": "execute_result",
          "data": {
            "text/plain": [
              "0.9198250728862973"
            ]
          },
          "metadata": {},
          "execution_count": 51
        }
      ]
    },
    {
      "cell_type": "code",
      "source": [
        "cm_o = confusion_matrix(predicted_o,y_test_o)\n",
        "cm_o"
      ],
      "metadata": {
        "colab": {
          "base_uri": "https://localhost:8080/"
        },
        "outputId": "4fcc7933-e99d-4292-f353-33c8e1407668",
        "id": "YrvzGfCEEIrA"
      },
      "execution_count": 52,
      "outputs": [
        {
          "output_type": "execute_result",
          "data": {
            "text/plain": [
              "array([[302,  14],\n",
              "       [ 41, 329]])"
            ]
          },
          "metadata": {},
          "execution_count": 52
        }
      ]
    },
    {
      "cell_type": "code",
      "source": [
        "# check model accuracy\n",
        "\n",
        "total_valid_o = cm_o[0,0] + cm_o[1,1]\n",
        "total_errors_o = cm_o[0,1] + cm_o[1,0]\n",
        "total_total_o = total_valid_o + total_errors_o\n",
        "\n",
        "type_1_valid_o = cm_u[0,0]\n",
        "type_1_errors_o = cm_u[0,1]\n",
        "type_1_total_o = type_1_valid_u + type_1_errors_o\n",
        "\n",
        "type_2_valid_o = cm_o[1,1]\n",
        "type_2_errors_o = cm_o[1,0]\n",
        "type_2_total_o = type_2_valid_o + type_2_errors_o\n",
        "\n",
        "\n",
        "print(\n",
        "    \"Model accuracy\"\n",
        "    \"\\n        Valid - Errors - %%\"\n",
        "    \"\\nTotal : %2i - %2i - %2.2f%%\" % (total_valid_o, total_errors_o, total_valid_o/total_total_o*100),\n",
        "    \"\\nType 1: %2i - %i - %2.2f%%\" % (type_1_valid_o, type_1_errors_o, type_1_valid_o/type_1_total_o*100),\n",
        "    \"\\nType 2: %2i - %2i - %2.2f%%\" % (type_2_valid_o, type_2_errors_o, type_2_valid_o/type_2_total_o*100),\n",
        ")"
      ],
      "metadata": {
        "colab": {
          "base_uri": "https://localhost:8080/"
        },
        "outputId": "adc13422-ebdb-4bdc-892a-9dcade931a7f",
        "id": "Hxz3IKiuEIrB"
      },
      "execution_count": 53,
      "outputs": [
        {
          "output_type": "stream",
          "name": "stdout",
          "text": [
            "Model accuracy\n",
            "        Valid - Errors - %\n",
            "Total : 631 - 55 - 91.98% \n",
            "Type 1: 315 - 20 - 94.03% \n",
            "Type 2: 329 - 41 - 88.92%\n"
          ]
        }
      ]
    },
    {
      "cell_type": "code",
      "source": [
        "# check model accuracy\n",
        "\n",
        "print(\n",
        "    \"Model accuracy\"\n",
        "    \"\\nOriginal model versus Undersampling and Oversampling\"\n",
        "    \"\\nTotal : %2.2f%% - %2.2f%% - %2.2f%%\" % (total_valid/total_total*100, total_valid_u/total_total_u*100, total_valid_o/total_total_o*100),\n",
        "    \"\\nType 1: %2.2f%% - %2.2f%% - %2.2f%%\" % (type_1_valid/type_1_total*100, type_1_valid_u/type_1_total_u*100, type_1_valid_o/type_1_total_o*100),\n",
        "    \"\\nType 2: %2.2f%% - %2.2f%% - %2.2f%%\" % (type_2_valid/type_2_total*100, type_2_valid_u/type_2_total_u*100, type_2_valid_o/type_2_total_o*100),\n",
        ")"
      ],
      "metadata": {
        "colab": {
          "base_uri": "https://localhost:8080/"
        },
        "id": "JsZY3HwJEuvn",
        "outputId": "0c86f3ad-4ff2-415e-8a3f-4e668854a8d5"
      },
      "execution_count": 54,
      "outputs": [
        {
          "output_type": "stream",
          "name": "stdout",
          "text": [
            "Model accuracy\n",
            "Original model versus Undersampling and Oversampling\n",
            "Total : 92.00% - 92.63% - 91.98% \n",
            "Type 1: 93.31% - 94.03% - 94.03% \n",
            "Type 2: 80.49% - 82.22% - 88.92%\n"
          ]
        }
      ]
    },
    {
      "cell_type": "code",
      "source": [
        "# We can make our model more accurate when applying the undersampling or oversampling techniques"
      ],
      "metadata": {
        "id": "Me87_oJIWDqW"
      },
      "execution_count": null,
      "outputs": []
    }
  ]
}