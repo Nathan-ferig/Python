{
 "cells": [
  {
   "cell_type": "markdown",
   "id": "55d1caab",
   "metadata": {},
   "source": [
    "**Probabilidade de ser aprovado em provas de múltipla escolha**\n",
    "\n",
    "O objetivo desse notebook é comparar a propabilidade de ser aprovado em um teste de múltipla escolha contando apenas com a sorte.\n",
    "\n",
    "**A)** A princípio, iremos considerar uma avaliação com **10 questões** de múltipla escolha, com **3 alternativas** cada. Para ser aprovado na prova, é necessário acertar ao menos **5 questões**."
   ]
  },
  {
   "cell_type": "code",
   "execution_count": 95,
   "id": "8c2956b0",
   "metadata": {},
   "outputs": [],
   "source": [
    "'''Importando bibliotecas'''\n",
    "import pandas as pd\n",
    "from scipy.stats import binom"
   ]
  },
  {
   "cell_type": "code",
   "execution_count": 96,
   "id": "5d6bf12f",
   "metadata": {},
   "outputs": [],
   "source": [
    "'''Definindo os parametros'''\n",
    "num_eventos_total = 10\n",
    "num_eventos_com_sucesso = 5\n",
    "probalidade_sucesso_do_evento = 1 / 3"
   ]
  },
  {
   "cell_type": "code",
   "execution_count": 97,
   "id": "1e89d12d",
   "metadata": {},
   "outputs": [],
   "source": [
    "k = num_eventos_com_sucesso\n",
    "n = num_eventos_total\n",
    "p = probalidade_sucesso_do_evento"
   ]
  },
  {
   "cell_type": "code",
   "execution_count": 98,
   "id": "0d7b3ab1",
   "metadata": {},
   "outputs": [
    {
     "name": "stdout",
     "output_type": "stream",
     "text": [
      "Probabilidade de acertar 5 questões: 13.66%\n"
     ]
    }
   ],
   "source": [
    "''' Esse tipo de problema, por possuir as caracteristicas de uma distribuição binomial,\n",
    "    pode ser resolvido através da função binom da biblioteca scipy'''\n",
    "\n",
    "probabilidade_acertar_5questoes_3alternativas  = binom.pmf(k, n, p)\n",
    "print('Probabilidade de acertar 5 questões: %2.2f%%' % (probabilidade_acertar_5questoes_3alternativas  * 100))"
   ]
  },
  {
   "cell_type": "code",
   "execution_count": 99,
   "id": "48fc159d",
   "metadata": {},
   "outputs": [
    {
     "name": "stdout",
     "output_type": "stream",
     "text": [
      "Probabilidade de passar no teste: 21.31%\n"
     ]
    }
   ],
   "source": [
    "''' Calculamos a probabilidade de acertar 5 questões, mas, para calcular a\n",
    "    probabilidade de ser aprovado no exame, é necessário somar as probabilidades\n",
    "    de acertar 5, 6, 7, 8, 9 e 10 questões.'''\n",
    "\n",
    "probabilidade_passar_5questoes_3alternativas = binom.pmf([i for i in range(5,10)], n, p).sum()\n",
    "print('Probabilidade de passar no teste: %2.2f%%' % (probabilidade_passar_5questoes_3alternativas * 100))"
   ]
  },
  {
   "cell_type": "markdown",
   "id": "7710fcc3",
   "metadata": {},
   "source": [
    "**B)** E se houvessem 4 alternativas em cada questão?"
   ]
  },
  {
   "cell_type": "code",
   "execution_count": 100,
   "id": "8eb2273a",
   "metadata": {},
   "outputs": [],
   "source": [
    "'''Definindo os parametros'''\n",
    "num_eventos_total = 10\n",
    "num_eventos_com_sucesso = 5\n",
    "probalidade_sucesso_do_evento = 1 / 4"
   ]
  },
  {
   "cell_type": "code",
   "execution_count": 101,
   "id": "f1e6f404",
   "metadata": {},
   "outputs": [],
   "source": [
    "k = num_eventos_com_sucesso\n",
    "n = num_eventos_total\n",
    "p = probalidade_sucesso_do_evento"
   ]
  },
  {
   "cell_type": "code",
   "execution_count": 102,
   "id": "23fc5f87",
   "metadata": {},
   "outputs": [
    {
     "name": "stdout",
     "output_type": "stream",
     "text": [
      "Probabilidade de acertar 5 questões: 5.84%\n"
     ]
    }
   ],
   "source": [
    "probabilidade_acertar_5questoes_4alternativas  = binom.pmf(k, n, p)\n",
    "print('Probabilidade de acertar 5 questões: %2.2f%%' % (probabilidade_acertar_5questoes_4alternativas  * 100))"
   ]
  },
  {
   "cell_type": "code",
   "execution_count": 103,
   "id": "985a081b",
   "metadata": {},
   "outputs": [
    {
     "name": "stdout",
     "output_type": "stream",
     "text": [
      "Probabilidade de passar no teste: 7.81%\n"
     ]
    }
   ],
   "source": [
    "probabilidade_passar_5questoes_4alternativas = binom.pmf([i for i in range(5,10)], n, p).sum()\n",
    "print('Probabilidade de passar no teste: %2.2f%%' % (probabilidade_passar_5questoes_4alternativas * 100))"
   ]
  },
  {
   "cell_type": "markdown",
   "id": "f626795d",
   "metadata": {},
   "source": [
    "**C)** E se houvessem 5 alternativas em cada questão?"
   ]
  },
  {
   "cell_type": "code",
   "execution_count": 104,
   "id": "435e489b",
   "metadata": {},
   "outputs": [],
   "source": [
    "'''Definindo os parametros'''\n",
    "num_eventos_total = 10\n",
    "num_eventos_com_sucesso = 5\n",
    "probalidade_sucesso_do_evento = 1 / 5"
   ]
  },
  {
   "cell_type": "code",
   "execution_count": 105,
   "id": "e2fe010a",
   "metadata": {},
   "outputs": [],
   "source": [
    "k = num_eventos_com_sucesso\n",
    "n = num_eventos_total\n",
    "p = probalidade_sucesso_do_evento"
   ]
  },
  {
   "cell_type": "code",
   "execution_count": 106,
   "id": "4dcf1076",
   "metadata": {},
   "outputs": [
    {
     "name": "stdout",
     "output_type": "stream",
     "text": [
      "Probabilidade de acertar 5 questões: 2.64%\n"
     ]
    }
   ],
   "source": [
    "probabilidade_acertar_5questoes_5alternativas  = binom.pmf(k, n, p)\n",
    "print('Probabilidade de acertar 5 questões: %2.2f%%' % (probabilidade_acertar_5questoes_5alternativas  * 100))"
   ]
  },
  {
   "cell_type": "code",
   "execution_count": 107,
   "id": "acd8aada",
   "metadata": {},
   "outputs": [
    {
     "name": "stdout",
     "output_type": "stream",
     "text": [
      "Probabilidade de passar no teste: 3.28%\n"
     ]
    }
   ],
   "source": [
    "probabilidade_passar_5questoes_5alternativas = binom.pmf([i for i in range(5,10)], n, p).sum()\n",
    "print('Probabilidade de passar no teste: %2.2f%%' % (probabilidade_passar_5questoes_5alternativas * 100))"
   ]
  },
  {
   "cell_type": "markdown",
   "id": "dd55f5c0",
   "metadata": {},
   "source": [
    "**D)** E se aumentar a nota de corte de 5 questões para 6?"
   ]
  },
  {
   "cell_type": "code",
   "execution_count": 108,
   "id": "3a15f0f6",
   "metadata": {},
   "outputs": [],
   "source": [
    "'''Definindo os parametros'''\n",
    "num_eventos_total = 10\n",
    "num_eventos_com_sucesso = 6\n",
    "\n",
    "k = num_eventos_com_sucesso\n",
    "n = num_eventos_total\n",
    "p = [1/3,1/4,1/5]"
   ]
  },
  {
   "cell_type": "code",
   "execution_count": 109,
   "id": "00c277c1",
   "metadata": {},
   "outputs": [
    {
     "name": "stdout",
     "output_type": "stream",
     "text": [
      "Probabilidade de acertar 6 questões: 5.69%\n",
      "Probabilidade de acertar 6 questões: 1.62%\n",
      "Probabilidade de acertar 6 questões: 0.55%\n"
     ]
    }
   ],
   "source": [
    "probabilidade_acertar_6questoes_3alternativas  = binom.pmf(k, n, p[0])\n",
    "print('Probabilidade de acertar 6 questões: %2.2f%%' % (probabilidade_acertar_6questoes_3alternativas  * 100))\n",
    "\n",
    "probabilidade_acertar_6questoes_4alternativas  = binom.pmf(k, n, p[1])\n",
    "print('Probabilidade de acertar 6 questões: %2.2f%%' % (probabilidade_acertar_6questoes_4alternativas  * 100))\n",
    "\n",
    "probabilidade_acertar_6questoes_5alternativas  = binom.pmf(k, n, p[2])\n",
    "print('Probabilidade de acertar 6 questões: %2.2f%%' % (probabilidade_acertar_6questoes_5alternativas  * 100))"
   ]
  },
  {
   "cell_type": "code",
   "execution_count": 110,
   "id": "b1792296",
   "metadata": {},
   "outputs": [
    {
     "name": "stdout",
     "output_type": "stream",
     "text": [
      "Probabilidade de passar no teste: 7.65%\n",
      "Probabilidade de passar no teste: 1.97%\n",
      "Probabilidade de passar no teste: 0.64%\n"
     ]
    }
   ],
   "source": [
    "probabilidade_passar_6questoes_3alternativas = binom.pmf([i for i in range(6,10)], n, p[0]).sum()\n",
    "print('Probabilidade de passar no teste: %2.2f%%' % (probabilidade_passar_6questoes_3alternativas * 100))\n",
    "\n",
    "probabilidade_passar_6questoes_4alternativas = binom.pmf([i for i in range(6,10)], n, p[1]).sum()\n",
    "print('Probabilidade de passar no teste: %2.2f%%' % (probabilidade_passar_6questoes_4alternativas * 100))\n",
    "\n",
    "probabilidade_passar_6questoes_5alternativas = binom.pmf([i for i in range(6,10)], n, p[2]).sum()\n",
    "print('Probabilidade de passar no teste: %2.2f%%' % (probabilidade_passar_6questoes_5alternativas * 100))"
   ]
  },
  {
   "cell_type": "markdown",
   "id": "184c4561",
   "metadata": {},
   "source": [
    "**E)** E se fosse uma prova de verdadeiro ou falso?"
   ]
  },
  {
   "cell_type": "code",
   "execution_count": 111,
   "id": "78ef4dec",
   "metadata": {},
   "outputs": [
    {
     "name": "stdout",
     "output_type": "stream",
     "text": [
      "Probabilidade de acertar 5 questões: 24.61%\n",
      "Probabilidade de passar no teste: 62.21%\n",
      "Probabilidade de acertar 6 questões: 20.51%\n",
      "Probabilidade de passar no teste: 37.60%\n"
     ]
    }
   ],
   "source": [
    "'''Definindo os parametros'''\n",
    "num_eventos_total = 10\n",
    "num_eventos_com_sucesso = [5,6]\n",
    "probalidade_sucesso_do_evento = 1 / 2\n",
    "\n",
    "k = num_eventos_com_sucesso\n",
    "n = num_eventos_total\n",
    "p = probalidade_sucesso_do_evento\n",
    "\n",
    "probabilidade_acertar_5questoes_2alternativas  = binom.pmf(k[0], n, p)\n",
    "print('Probabilidade de acertar 5 questões: %2.2f%%' % (probabilidade_acertar_5questoes_2alternativas  * 100))\n",
    "\n",
    "probabilidade_passar_5questoes_2alternativas = binom.pmf([i for i in range(k[0],10)], n, p).sum()\n",
    "print('Probabilidade de passar no teste: %2.2f%%' % (probabilidade_passar_5questoes_2alternativas * 100))\n",
    "\n",
    "probabilidade_acertar_6questoes_2alternativas  = binom.pmf(k[1], n, p)\n",
    "print('Probabilidade de acertar 6 questões: %2.2f%%' % (probabilidade_acertar_6questoes_2alternativas  * 100))\n",
    "\n",
    "probabilidade_passar_6questoes_2alternativas = binom.pmf([i for i in range(k[1],10)], n, p).sum()\n",
    "print('Probabilidade de passar no teste: %2.2f%%' % (probabilidade_passar_6questoes_2alternativas * 100))"
   ]
  },
  {
   "cell_type": "markdown",
   "id": "28a4ab40",
   "metadata": {},
   "source": [
    "**F)** Após calcularmos todas as probabilidades, precisamos deixar o resultado mais apresentável:"
   ]
  },
  {
   "cell_type": "code",
   "execution_count": 112,
   "id": "2a3d13ed",
   "metadata": {},
   "outputs": [
    {
     "data": {
      "text/plain": [
       "[0.24609375, 0.13656454808718146, 0.058399200439453146, 0.026424115199999987]"
      ]
     },
     "execution_count": 112,
     "metadata": {},
     "output_type": "execute_result"
    }
   ],
   "source": [
    "'''Podemos unir os resultados em listas'''\n",
    "acertar_5questões = [probabilidade_acertar_5questoes_2alternativas, \n",
    "                     probabilidade_acertar_5questoes_3alternativas, \n",
    "                     probabilidade_acertar_5questoes_4alternativas, \n",
    "                     probabilidade_acertar_5questoes_5alternativas]\n",
    "acertar_5questões"
   ]
  },
  {
   "cell_type": "code",
   "execution_count": 113,
   "id": "bc0b214c",
   "metadata": {},
   "outputs": [
    {
     "data": {
      "text/plain": [
       "[0.6220703124999999, 0.21311114498128633, 0.0781259536743164, 0.0327933952]"
      ]
     },
     "execution_count": 113,
     "metadata": {},
     "output_type": "execute_result"
    }
   ],
   "source": [
    "passar_5questões = [probabilidade_passar_5questoes_2alternativas, \n",
    "                     probabilidade_passar_5questoes_3alternativas, \n",
    "                     probabilidade_passar_5questoes_4alternativas, \n",
    "                     probabilidade_passar_5questoes_5alternativas]\n",
    "passar_5questões"
   ]
  },
  {
   "cell_type": "code",
   "execution_count": 114,
   "id": "e205cdcf",
   "metadata": {},
   "outputs": [
    {
     "data": {
      "text/plain": [
       "[0.2050781249999999,\n",
       " 0.05690189503632574,\n",
       " 0.0162220001220703,\n",
       " 0.005505024000000004]"
      ]
     },
     "execution_count": 114,
     "metadata": {},
     "output_type": "execute_result"
    }
   ],
   "source": [
    "acertar_6questões = [probabilidade_acertar_6questoes_2alternativas, \n",
    "                     probabilidade_acertar_6questoes_3alternativas, \n",
    "                     probabilidade_acertar_6questoes_4alternativas, \n",
    "                     probabilidade_acertar_6questoes_5alternativas]\n",
    "acertar_6questões"
   ]
  },
  {
   "cell_type": "code",
   "execution_count": 115,
   "id": "c9cf207c",
   "metadata": {},
   "outputs": [
    {
     "data": {
      "text/plain": [
       "[0.3759765624999999,\n",
       " 0.0765465968941049,\n",
       " 0.019726753234863267,\n",
       " 0.006369280000000005]"
      ]
     },
     "execution_count": 115,
     "metadata": {},
     "output_type": "execute_result"
    }
   ],
   "source": [
    "passar_6questões = [probabilidade_passar_6questoes_2alternativas, \n",
    "                     probabilidade_passar_6questoes_3alternativas, \n",
    "                     probabilidade_passar_6questoes_4alternativas, \n",
    "                     probabilidade_passar_6questoes_5alternativas]\n",
    "passar_6questões"
   ]
  },
  {
   "cell_type": "markdown",
   "id": "6478875d",
   "metadata": {},
   "source": [
    "**G)** Podemos transformar essas listas em um DataFrame:"
   ]
  },
  {
   "cell_type": "code",
   "execution_count": 116,
   "id": "cbe7c296",
   "metadata": {},
   "outputs": [
    {
     "data": {
      "text/html": [
       "<style type=\"text/css\">\n",
       "</style>\n",
       "<table id=\"T_43d45\">\n",
       "  <thead>\n",
       "    <tr>\n",
       "      <th class=\"blank level0\" >&nbsp;</th>\n",
       "      <th id=\"T_43d45_level0_col0\" class=\"col_heading level0 col0\" >5 Questões</th>\n",
       "      <th id=\"T_43d45_level0_col1\" class=\"col_heading level0 col1\" >6 Questões</th>\n",
       "    </tr>\n",
       "  </thead>\n",
       "  <tbody>\n",
       "    <tr>\n",
       "      <th id=\"T_43d45_level0_row0\" class=\"row_heading level0 row0\" >2 alternativas</th>\n",
       "      <td id=\"T_43d45_row0_col0\" class=\"data row0 col0\" >24.61%</td>\n",
       "      <td id=\"T_43d45_row0_col1\" class=\"data row0 col1\" >20.51%</td>\n",
       "    </tr>\n",
       "    <tr>\n",
       "      <th id=\"T_43d45_level0_row1\" class=\"row_heading level0 row1\" >3 alternativas</th>\n",
       "      <td id=\"T_43d45_row1_col0\" class=\"data row1 col0\" >13.66%</td>\n",
       "      <td id=\"T_43d45_row1_col1\" class=\"data row1 col1\" >5.69%</td>\n",
       "    </tr>\n",
       "    <tr>\n",
       "      <th id=\"T_43d45_level0_row2\" class=\"row_heading level0 row2\" >4 alternativas</th>\n",
       "      <td id=\"T_43d45_row2_col0\" class=\"data row2 col0\" >5.84%</td>\n",
       "      <td id=\"T_43d45_row2_col1\" class=\"data row2 col1\" >1.62%</td>\n",
       "    </tr>\n",
       "    <tr>\n",
       "      <th id=\"T_43d45_level0_row3\" class=\"row_heading level0 row3\" >5 alternativas</th>\n",
       "      <td id=\"T_43d45_row3_col0\" class=\"data row3 col0\" >2.64%</td>\n",
       "      <td id=\"T_43d45_row3_col1\" class=\"data row3 col1\" >0.55%</td>\n",
       "    </tr>\n",
       "  </tbody>\n",
       "</table>\n"
      ],
      "text/plain": [
       "<pandas.io.formats.style.Styler at 0x19ac2775d30>"
      ]
     },
     "execution_count": 116,
     "metadata": {},
     "output_type": "execute_result"
    }
   ],
   "source": [
    "'''E transformar as listas em um DataFrame'''\n",
    "linhas = {0: '2 alternativas', 1: '3 alternativas', 2: '4 alternativas', 3: '5 alternativas'}\n",
    "\n",
    "probabilidade_acertar = pd.concat([\n",
    "                        pd.DataFrame(acertar_5questões).reset_index(drop=True).rename(columns={0: '5 Questões'}, index=linhas),\n",
    "                        pd.DataFrame(acertar_6questões).reset_index(drop=True).rename(columns={0: '6 Questões'}, index=linhas)],\n",
    "                        axis = 1).style.format({\n",
    "                                '5 Questões': '{:,.2%}'.format,\n",
    "                                '6 Questões': '{:,.2%}'.format\n",
    "                                })    \n",
    "probabilidade_acertar"
   ]
  },
  {
   "cell_type": "code",
   "execution_count": 117,
   "id": "16942d2b",
   "metadata": {},
   "outputs": [
    {
     "data": {
      "text/html": [
       "<style type=\"text/css\">\n",
       "</style>\n",
       "<table id=\"T_a3ae8\">\n",
       "  <thead>\n",
       "    <tr>\n",
       "      <th class=\"blank level0\" >&nbsp;</th>\n",
       "      <th id=\"T_a3ae8_level0_col0\" class=\"col_heading level0 col0\" >5 Questões</th>\n",
       "      <th id=\"T_a3ae8_level0_col1\" class=\"col_heading level0 col1\" >6 Questões</th>\n",
       "    </tr>\n",
       "  </thead>\n",
       "  <tbody>\n",
       "    <tr>\n",
       "      <th id=\"T_a3ae8_level0_row0\" class=\"row_heading level0 row0\" >2 alternativas</th>\n",
       "      <td id=\"T_a3ae8_row0_col0\" class=\"data row0 col0\" >62.21%</td>\n",
       "      <td id=\"T_a3ae8_row0_col1\" class=\"data row0 col1\" >37.60%</td>\n",
       "    </tr>\n",
       "    <tr>\n",
       "      <th id=\"T_a3ae8_level0_row1\" class=\"row_heading level0 row1\" >3 alternativas</th>\n",
       "      <td id=\"T_a3ae8_row1_col0\" class=\"data row1 col0\" >21.31%</td>\n",
       "      <td id=\"T_a3ae8_row1_col1\" class=\"data row1 col1\" >7.65%</td>\n",
       "    </tr>\n",
       "    <tr>\n",
       "      <th id=\"T_a3ae8_level0_row2\" class=\"row_heading level0 row2\" >4 alternativas</th>\n",
       "      <td id=\"T_a3ae8_row2_col0\" class=\"data row2 col0\" >7.81%</td>\n",
       "      <td id=\"T_a3ae8_row2_col1\" class=\"data row2 col1\" >1.97%</td>\n",
       "    </tr>\n",
       "    <tr>\n",
       "      <th id=\"T_a3ae8_level0_row3\" class=\"row_heading level0 row3\" >5 alternativas</th>\n",
       "      <td id=\"T_a3ae8_row3_col0\" class=\"data row3 col0\" >3.28%</td>\n",
       "      <td id=\"T_a3ae8_row3_col1\" class=\"data row3 col1\" >0.64%</td>\n",
       "    </tr>\n",
       "  </tbody>\n",
       "</table>\n"
      ],
      "text/plain": [
       "<pandas.io.formats.style.Styler at 0x19ac27bbeb0>"
      ]
     },
     "execution_count": 117,
     "metadata": {},
     "output_type": "execute_result"
    }
   ],
   "source": [
    "probabilidade_passar = pd.concat([\n",
    "                        pd.DataFrame(passar_5questões).reset_index(drop=True).rename(columns={0: '5 Questões'}, index=linhas),\n",
    "                        pd.DataFrame(passar_6questões).reset_index(drop=True).rename(columns={0: '6 Questões'}, index=linhas)],\n",
    "                        axis = 1).style.format({\n",
    "                                '5 Questões': '{:,.2%}'.format,\n",
    "                                '6 Questões': '{:,.2%}'.format\n",
    "                                })    \n",
    "probabilidade_passar"
   ]
  },
  {
   "cell_type": "markdown",
   "id": "12b47c88",
   "metadata": {},
   "source": [
    "Como podemos notar dos resultados, a propabilidade de passar numa avaliação contando apenas com a sorte diminui drasticamente a medida que mais alternativas são adicionadas a cada questão.\n",
    "\n",
    "\n",
    "Da mesma forma, aumentar a nota de corte também diminui significativamente a probabiladade de alguém ser aprovado apenas selecionando as opções de forma aleatória. \n",
    "\n",
    "\n",
    "Disso, podemos concluir que, caso seja necessário preparar uma avaliação, é recomendável ter **5 alternativas com nota de corte de 5 questões** ou **4 alternativas com nota de corte de 6 questões**. "
   ]
  },
  {
   "cell_type": "markdown",
   "id": "f413a8a9",
   "metadata": {},
   "source": [
    "**H)** De posse dos resultados, podemos exportar os númeors para o Excel:"
   ]
  },
  {
   "cell_type": "code",
   "execution_count": 118,
   "id": "9e29dce5",
   "metadata": {},
   "outputs": [],
   "source": [
    "probabilidade_acertar.to_excel('probabilidade_acertar.xlsx', index=True)\n",
    "probabilidade_passar.to_excel('probabilidade_passar.xlsx', index=True)"
   ]
  }
 ],
 "metadata": {
  "kernelspec": {
   "display_name": "Python 3 (ipykernel)",
   "language": "python",
   "name": "python3"
  },
  "language_info": {
   "codemirror_mode": {
    "name": "ipython",
    "version": 3
   },
   "file_extension": ".py",
   "mimetype": "text/x-python",
   "name": "python",
   "nbconvert_exporter": "python",
   "pygments_lexer": "ipython3",
   "version": "3.9.7"
  }
 },
 "nbformat": 4,
 "nbformat_minor": 5
}
